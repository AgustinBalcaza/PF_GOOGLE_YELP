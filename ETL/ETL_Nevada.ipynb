{
 "cells": [
  {
   "cell_type": "markdown",
   "metadata": {},
   "source": [
    "### Descripción del proceso de unión de los datasets de metadatos y de reviews:"
   ]
  },
  {
   "cell_type": "code",
   "execution_count": 7,
   "metadata": {},
   "outputs": [],
   "source": [
    "import pandas as pd\n",
    "import numpy as np\n",
    "import seaborn as sns\n",
    "import matplotlib.pyplot as plt"
   ]
  },
  {
   "cell_type": "markdown",
   "metadata": {},
   "source": [
    "Cargamos los archivos json y los concatenamos:"
   ]
  },
  {
   "cell_type": "code",
   "execution_count": 2,
   "metadata": {},
   "outputs": [],
   "source": [
    "\n",
    "\n",
    "file_paths = ['Google Maps/reviews-estados/review-Nevada/{}.json'.format(i) for i in range(1, 13)]\n",
    "\n",
    "dfs = [pd.read_json(file_path, lines=True) for file_path in file_paths]\n",
    "\n",
    "#Concatenamos todos los datasets:\n",
    "dfc = pd.concat(dfs, axis=0, join='inner')"
   ]
  },
  {
   "cell_type": "markdown",
   "metadata": {},
   "source": [
    "Estimamos conveniente realizar una combinación de los metadatos con los reviews. Para ello tomamos los grupos de\n",
    "metadatos que habíamos separado previamente para facilitar la manipulación: "
   ]
  },
  {
   "cell_type": "code",
   "execution_count": 4,
   "metadata": {},
   "outputs": [],
   "source": [
    "#Cargamos el dataset del metadata1\n",
    "metadata1= pd.read_parquet('Google Maps/metadata-sitios/metadata1.parquet')\n"
   ]
  },
  {
   "cell_type": "markdown",
   "metadata": {},
   "source": [
    "Realizamos una combinación entre los dataframes:"
   ]
  },
  {
   "cell_type": "code",
   "execution_count": 5,
   "metadata": {},
   "outputs": [],
   "source": [
    "\n",
    "NV1 = pd.merge(dfc, metadata1, on='gmap_id')"
   ]
  },
  {
   "cell_type": "code",
   "execution_count": 6,
   "metadata": {},
   "outputs": [],
   "source": [
    "# Guardamos el dataframe resultante en un archivo .parquet\n",
    "NV1.to_parquet('NV1.parquet', index=False)"
   ]
  },
  {
   "cell_type": "code",
   "execution_count": 7,
   "metadata": {},
   "outputs": [],
   "source": [
    "#Liberamos memoria:\n",
    "del NV1, metadata1"
   ]
  },
  {
   "cell_type": "code",
   "execution_count": 8,
   "metadata": {},
   "outputs": [],
   "source": [
    "\n",
    "#Cargamos la información del metadata2\n",
    "metadata2= pd.read_parquet('Google Maps/metadata-sitios/metadata2.parquet')"
   ]
  },
  {
   "cell_type": "code",
   "execution_count": 9,
   "metadata": {},
   "outputs": [],
   "source": [
    "#Realizamos una combinación entre los dataframes\n",
    "NV2 = pd.merge(dfc, metadata2, on='gmap_id')"
   ]
  },
  {
   "cell_type": "code",
   "execution_count": 10,
   "metadata": {},
   "outputs": [
    {
     "name": "stdout",
     "output_type": "stream",
     "text": [
      "<class 'pandas.core.frame.DataFrame'>\n",
      "RangeIndex: 256627 entries, 0 to 256626\n",
      "Data columns (total 22 columns):\n",
      " #   Column            Non-Null Count   Dtype  \n",
      "---  ------            --------------   -----  \n",
      " 0   user_id           256627 non-null  float64\n",
      " 1   name_x            256627 non-null  object \n",
      " 2   time              256627 non-null  int64  \n",
      " 3   rating            256627 non-null  int64  \n",
      " 4   text              159832 non-null  object \n",
      " 5   pics              11168 non-null   object \n",
      " 6   resp              31838 non-null   object \n",
      " 7   gmap_id           256627 non-null  object \n",
      " 8   name_y            256627 non-null  object \n",
      " 9   address           255866 non-null  object \n",
      " 10  description       139631 non-null  object \n",
      " 11  latitude          256627 non-null  float64\n",
      " 12  longitude         256627 non-null  float64\n",
      " 13  category          256616 non-null  object \n",
      " 14  avg_rating        256627 non-null  float64\n",
      " 15  num_of_reviews    256627 non-null  int64  \n",
      " 16  price             112864 non-null  object \n",
      " 17  hours             238053 non-null  object \n",
      " 18  MISC              247608 non-null  object \n",
      " 19  state             239256 non-null  object \n",
      " 20  relative_results  252113 non-null  object \n",
      " 21  url               256627 non-null  object \n",
      "dtypes: float64(4), int64(3), object(15)\n",
      "memory usage: 43.1+ MB\n"
     ]
    }
   ],
   "source": [
    "NV2.info()"
   ]
  },
  {
   "cell_type": "code",
   "execution_count": 12,
   "metadata": {},
   "outputs": [],
   "source": [
    "# Guardamos el dataframe resultante en un archivo .parquet\n",
    "NV2.to_parquet('NV2.parquet', index=False)"
   ]
  },
  {
   "cell_type": "code",
   "execution_count": 13,
   "metadata": {},
   "outputs": [],
   "source": [
    "#Liberamos memoria\n",
    "del NV2, metadata2"
   ]
  },
  {
   "cell_type": "code",
   "execution_count": 3,
   "metadata": {},
   "outputs": [],
   "source": [
    "#leemos los datos del metadata3\n",
    "metadata3= pd.read_parquet('Google Maps/metadata-sitios/metadata3.parquet')"
   ]
  },
  {
   "cell_type": "code",
   "execution_count": 4,
   "metadata": {},
   "outputs": [],
   "source": [
    "#Realizamos una combinación entre los dataframes\n",
    "NV3 = pd.merge(dfc, metadata3, on='gmap_id')"
   ]
  },
  {
   "cell_type": "code",
   "execution_count": 5,
   "metadata": {},
   "outputs": [
    {
     "name": "stdout",
     "output_type": "stream",
     "text": [
      "<class 'pandas.core.frame.DataFrame'>\n",
      "RangeIndex: 179747 entries, 0 to 179746\n",
      "Data columns (total 22 columns):\n",
      " #   Column            Non-Null Count   Dtype  \n",
      "---  ------            --------------   -----  \n",
      " 0   user_id           179747 non-null  float64\n",
      " 1   name_x            179747 non-null  object \n",
      " 2   time              179747 non-null  int64  \n",
      " 3   rating            179747 non-null  int64  \n",
      " 4   text              111242 non-null  object \n",
      " 5   pics              6765 non-null    object \n",
      " 6   resp              26300 non-null   object \n",
      " 7   gmap_id           179747 non-null  object \n",
      " 8   name_y            179747 non-null  object \n",
      " 9   address           179285 non-null  object \n",
      " 10  description       41502 non-null   object \n",
      " 11  latitude          179747 non-null  float64\n",
      " 12  longitude         179747 non-null  float64\n",
      " 13  category          179690 non-null  object \n",
      " 14  avg_rating        179747 non-null  float64\n",
      " 15  num_of_reviews    179747 non-null  int64  \n",
      " 16  price             47567 non-null   object \n",
      " 17  hours             162300 non-null  object \n",
      " 18  MISC              171913 non-null  object \n",
      " 19  state             164579 non-null  object \n",
      " 20  relative_results  172603 non-null  object \n",
      " 21  url               179747 non-null  object \n",
      "dtypes: float64(4), int64(3), object(15)\n",
      "memory usage: 30.2+ MB\n"
     ]
    }
   ],
   "source": [
    "NV3.info()"
   ]
  },
  {
   "cell_type": "code",
   "execution_count": 6,
   "metadata": {},
   "outputs": [],
   "source": [
    "# Guardamos el dataframe resultante en un archivo .parquet\n",
    "NV3.to_parquet('NV3.parquet', index=False)"
   ]
  },
  {
   "cell_type": "code",
   "execution_count": 3,
   "metadata": {},
   "outputs": [],
   "source": [
    "df_nv = pd.concat([pd.read_parquet(f'NV{i}.parquet') for i in range(1, 4)], axis=0, join='inner')"
   ]
  },
  {
   "cell_type": "markdown",
   "metadata": {},
   "source": [
    "Guardamos el dataset final correspondiente al estado de Nevada: "
   ]
  },
  {
   "cell_type": "code",
   "execution_count": 4,
   "metadata": {},
   "outputs": [],
   "source": [
    "df_nv.to_parquet('df_nv.parquet', index=False)"
   ]
  },
  {
   "cell_type": "markdown",
   "metadata": {},
   "source": [
    "___________________________________________________________________________________________________________"
   ]
  },
  {
   "cell_type": "markdown",
   "metadata": {},
   "source": [
    "### Análisis Exploratorio de Datos - Google reviews:Estado de Nevada"
   ]
  },
  {
   "cell_type": "markdown",
   "metadata": {},
   "source": [
    "En el presente notebook se realizará un análisis exploratorio de los datos de reviews de negocios relacionados al hospedaje realizadas en Google Maps en el estado de Nevada:\n"
   ]
  },
  {
   "cell_type": "markdown",
   "metadata": {},
   "source": [
    "Realizamos la carga del dataset de Nevada concatenado previamente:"
   ]
  },
  {
   "cell_type": "code",
   "execution_count": 8,
   "metadata": {},
   "outputs": [],
   "source": [
    "#Cargamos el dataset \n",
    "df_nv= pd.read_parquet('df_nv.parquet')"
   ]
  },
  {
   "cell_type": "code",
   "execution_count": 4,
   "metadata": {},
   "outputs": [
    {
     "name": "stdout",
     "output_type": "stream",
     "text": [
      "<class 'pandas.core.frame.DataFrame'>\n",
      "RangeIndex: 482596 entries, 0 to 482595\n",
      "Data columns (total 22 columns):\n",
      " #   Column            Non-Null Count   Dtype  \n",
      "---  ------            --------------   -----  \n",
      " 0   user_id           482596 non-null  float64\n",
      " 1   name_x            482596 non-null  object \n",
      " 2   time              482596 non-null  int64  \n",
      " 3   rating            482596 non-null  int64  \n",
      " 4   text              300916 non-null  object \n",
      " 5   pics              19435 non-null   object \n",
      " 6   resp              66383 non-null   object \n",
      " 7   gmap_id           482596 non-null  object \n",
      " 8   name_y            482596 non-null  object \n",
      " 9   address           480769 non-null  object \n",
      " 10  description       186592 non-null  object \n",
      " 11  latitude          482596 non-null  float64\n",
      " 12  longitude         482596 non-null  float64\n",
      " 13  category          482528 non-null  object \n",
      " 14  avg_rating        482596 non-null  float64\n",
      " 15  num_of_reviews    482596 non-null  int64  \n",
      " 16  price             165041 non-null  object \n",
      " 17  hours             441670 non-null  object \n",
      " 18  MISC              461945 non-null  object \n",
      " 19  state             445347 non-null  object \n",
      " 20  relative_results  468393 non-null  object \n",
      " 21  url               482596 non-null  object \n",
      "dtypes: float64(4), int64(3), object(15)\n",
      "memory usage: 81.0+ MB\n"
     ]
    }
   ],
   "source": [
    "#Verificamos la infomación y el tamaño del dataframe\n",
    "df_nv.info()"
   ]
  },
  {
   "cell_type": "markdown",
   "metadata": {},
   "source": [
    "Primero analizamos las columnas 'name_x', 'pics', 'resp', 'MISC' y 'url' y decidimos eliminarlas por los siguientes motivos:\n",
    "'name_x': Nombre de usuario irrelevante para nuestro estudio.\n",
    "'pics'  : Corresponden a fotografías tomadas por los usuarios. La eliminaremos ya que no las consideramos necesarias.\n",
    "'resp'  : Respuesta del establecimiento a la review del usuario. El numero de datos es muy pequeño.\n",
    "'MISC'  : Opciones del servicio. No son relevantes en nuestro estudio.\n",
    "'gmap_id':  Códigos de google que no tienen significado relevante.\n",
    "'relative_results': Códigos de google que no tienen significado relevante.\n",
    "'url'   : Dirección web del establecimiento comercial. No relevante.\n"
   ]
  },
  {
   "cell_type": "code",
   "execution_count": 9,
   "metadata": {},
   "outputs": [],
   "source": [
    "#Eliminamos las columnas que no se usarán en el análisis: \n",
    "\n",
    "df_nv= df_nv.drop(['name_x','pics', 'resp', 'MISC', 'url', 'relative_results', 'gmap_id', 'hours'], axis=1)"
   ]
  },
  {
   "cell_type": "markdown",
   "metadata": {},
   "source": [
    "Verificamos la cantidad de valores nulos:"
   ]
  },
  {
   "cell_type": "code",
   "execution_count": 10,
   "metadata": {},
   "outputs": [
    {
     "name": "stdout",
     "output_type": "stream",
     "text": [
      "user_id                0\n",
      "time                   0\n",
      "rating                 0\n",
      "text              181680\n",
      "name_y                 0\n",
      "address             1827\n",
      "description       296004\n",
      "latitude               0\n",
      "longitude              0\n",
      "category              68\n",
      "avg_rating             0\n",
      "num_of_reviews         0\n",
      "price             317555\n",
      "state              37249\n",
      "dtype: int64\n"
     ]
    }
   ],
   "source": [
    "null_counts = df_nv.isnull().sum()\n",
    "print(null_counts)"
   ]
  },
  {
   "cell_type": "markdown",
   "metadata": {},
   "source": [
    "De acuerdo a lo anterior, existe una gran cantidad de valores faltantes en la columna \"text\", que contiene los comentarios de las reviews realizadas por el usuario. Se decide mantener las mismas, ya que tal vez podamos implementar algún método para completar los mismos a través del rating ingresado por el usuario De igual manera para las columnas \"description\", \"address\", \"price\" y \"state\". \n",
    "\n"
   ]
  },
  {
   "cell_type": "markdown",
   "metadata": {},
   "source": [
    "Desanidamos la columna 'category':"
   ]
  },
  {
   "cell_type": "code",
   "execution_count": 11,
   "metadata": {},
   "outputs": [],
   "source": [
    "df_nv = df_nv.explode('category')\n",
    "df_nv = df_nv.dropna(subset=['category'])"
   ]
  },
  {
   "cell_type": "code",
   "execution_count": 12,
   "metadata": {},
   "outputs": [
    {
     "data": {
      "text/plain": [
       "58395"
      ]
     },
     "execution_count": 12,
     "metadata": {},
     "output_type": "execute_result"
    }
   ],
   "source": [
    "# Se controla que no existan filas duplicadas:\n",
    "df_nv.duplicated().sum()"
   ]
  },
  {
   "cell_type": "code",
   "execution_count": 13,
   "metadata": {},
   "outputs": [
    {
     "data": {
      "text/plain": [
       "(1375620, 14)"
      ]
     },
     "execution_count": 13,
     "metadata": {},
     "output_type": "execute_result"
    }
   ],
   "source": [
    "# Se eliminan valores duplicados:\n",
    "df_nv= df_nv.drop_duplicates()\n",
    "df_nv.shape"
   ]
  },
  {
   "cell_type": "markdown",
   "metadata": {},
   "source": [
    "Llenamos los datos faltantes de la columna \"price\" por 'no price'"
   ]
  },
  {
   "cell_type": "code",
   "execution_count": 14,
   "metadata": {},
   "outputs": [],
   "source": [
    "df_nv['price'].fillna('No Price', inplace=True)\n"
   ]
  },
  {
   "cell_type": "markdown",
   "metadata": {},
   "source": [
    "Cambiamos el tipo de dato de la columna time a datetime:"
   ]
  },
  {
   "cell_type": "code",
   "execution_count": 15,
   "metadata": {},
   "outputs": [],
   "source": [
    "df_nv['time'] = pd.to_datetime(df_nv['time'], unit='ms')"
   ]
  },
  {
   "cell_type": "code",
   "execution_count": 16,
   "metadata": {},
   "outputs": [
    {
     "data": {
      "text/html": [
       "<div>\n",
       "<style scoped>\n",
       "    .dataframe tbody tr th:only-of-type {\n",
       "        vertical-align: middle;\n",
       "    }\n",
       "\n",
       "    .dataframe tbody tr th {\n",
       "        vertical-align: top;\n",
       "    }\n",
       "\n",
       "    .dataframe thead th {\n",
       "        text-align: right;\n",
       "    }\n",
       "</style>\n",
       "<table border=\"1\" class=\"dataframe\">\n",
       "  <thead>\n",
       "    <tr style=\"text-align: right;\">\n",
       "      <th></th>\n",
       "      <th>user_id</th>\n",
       "      <th>time</th>\n",
       "      <th>rating</th>\n",
       "      <th>text</th>\n",
       "      <th>name_y</th>\n",
       "      <th>address</th>\n",
       "      <th>description</th>\n",
       "      <th>latitude</th>\n",
       "      <th>longitude</th>\n",
       "      <th>category</th>\n",
       "      <th>avg_rating</th>\n",
       "      <th>num_of_reviews</th>\n",
       "      <th>price</th>\n",
       "      <th>state</th>\n",
       "    </tr>\n",
       "  </thead>\n",
       "  <tbody>\n",
       "    <tr>\n",
       "      <th>0</th>\n",
       "      <td>1.028432e+20</td>\n",
       "      <td>2021-06-03 17:15:04.476</td>\n",
       "      <td>5</td>\n",
       "      <td>No frills smaller coffee counter in the corner...</td>\n",
       "      <td>Castle Coffee</td>\n",
       "      <td>Castle Coffee, Excalibur Hotel and Casino, 385...</td>\n",
       "      <td>None</td>\n",
       "      <td>36.099575</td>\n",
       "      <td>-115.176338</td>\n",
       "      <td>Coffee shop</td>\n",
       "      <td>3.2</td>\n",
       "      <td>24</td>\n",
       "      <td>No Price</td>\n",
       "      <td>Open ⋅ Closes 2PM</td>\n",
       "    </tr>\n",
       "    <tr>\n",
       "      <th>2</th>\n",
       "      <td>1.149544e+20</td>\n",
       "      <td>2019-11-07 20:43:33.820</td>\n",
       "      <td>1</td>\n",
       "      <td>Save yourself the frustration and just ignore ...</td>\n",
       "      <td>Castle Coffee</td>\n",
       "      <td>Castle Coffee, Excalibur Hotel and Casino, 385...</td>\n",
       "      <td>None</td>\n",
       "      <td>36.099575</td>\n",
       "      <td>-115.176338</td>\n",
       "      <td>Coffee shop</td>\n",
       "      <td>3.2</td>\n",
       "      <td>24</td>\n",
       "      <td>No Price</td>\n",
       "      <td>Open ⋅ Closes 2PM</td>\n",
       "    </tr>\n",
       "    <tr>\n",
       "      <th>4</th>\n",
       "      <td>1.165234e+20</td>\n",
       "      <td>2018-01-06 15:06:03.362</td>\n",
       "      <td>3</td>\n",
       "      <td>I passed two Starbucks in order to get to this...</td>\n",
       "      <td>Castle Coffee</td>\n",
       "      <td>Castle Coffee, Excalibur Hotel and Casino, 385...</td>\n",
       "      <td>None</td>\n",
       "      <td>36.099575</td>\n",
       "      <td>-115.176338</td>\n",
       "      <td>Coffee shop</td>\n",
       "      <td>3.2</td>\n",
       "      <td>24</td>\n",
       "      <td>No Price</td>\n",
       "      <td>Open ⋅ Closes 2PM</td>\n",
       "    </tr>\n",
       "    <tr>\n",
       "      <th>6</th>\n",
       "      <td>1.033041e+20</td>\n",
       "      <td>2017-09-23 22:46:02.095</td>\n",
       "      <td>3</td>\n",
       "      <td>It does the job and is my preference over the ...</td>\n",
       "      <td>Castle Coffee</td>\n",
       "      <td>Castle Coffee, Excalibur Hotel and Casino, 385...</td>\n",
       "      <td>None</td>\n",
       "      <td>36.099575</td>\n",
       "      <td>-115.176338</td>\n",
       "      <td>Coffee shop</td>\n",
       "      <td>3.2</td>\n",
       "      <td>24</td>\n",
       "      <td>No Price</td>\n",
       "      <td>Open ⋅ Closes 2PM</td>\n",
       "    </tr>\n",
       "    <tr>\n",
       "      <th>8</th>\n",
       "      <td>1.141624e+20</td>\n",
       "      <td>2016-07-12 04:46:11.892</td>\n",
       "      <td>3</td>\n",
       "      <td>None</td>\n",
       "      <td>Castle Coffee</td>\n",
       "      <td>Castle Coffee, Excalibur Hotel and Casino, 385...</td>\n",
       "      <td>None</td>\n",
       "      <td>36.099575</td>\n",
       "      <td>-115.176338</td>\n",
       "      <td>Coffee shop</td>\n",
       "      <td>3.2</td>\n",
       "      <td>24</td>\n",
       "      <td>No Price</td>\n",
       "      <td>Open ⋅ Closes 2PM</td>\n",
       "    </tr>\n",
       "  </tbody>\n",
       "</table>\n",
       "</div>"
      ],
      "text/plain": [
       "        user_id                    time  rating   \n",
       "0  1.028432e+20 2021-06-03 17:15:04.476       5  \\\n",
       "2  1.149544e+20 2019-11-07 20:43:33.820       1   \n",
       "4  1.165234e+20 2018-01-06 15:06:03.362       3   \n",
       "6  1.033041e+20 2017-09-23 22:46:02.095       3   \n",
       "8  1.141624e+20 2016-07-12 04:46:11.892       3   \n",
       "\n",
       "                                                text         name_y   \n",
       "0  No frills smaller coffee counter in the corner...  Castle Coffee  \\\n",
       "2  Save yourself the frustration and just ignore ...  Castle Coffee   \n",
       "4  I passed two Starbucks in order to get to this...  Castle Coffee   \n",
       "6  It does the job and is my preference over the ...  Castle Coffee   \n",
       "8                                               None  Castle Coffee   \n",
       "\n",
       "                                             address description   latitude   \n",
       "0  Castle Coffee, Excalibur Hotel and Casino, 385...        None  36.099575  \\\n",
       "2  Castle Coffee, Excalibur Hotel and Casino, 385...        None  36.099575   \n",
       "4  Castle Coffee, Excalibur Hotel and Casino, 385...        None  36.099575   \n",
       "6  Castle Coffee, Excalibur Hotel and Casino, 385...        None  36.099575   \n",
       "8  Castle Coffee, Excalibur Hotel and Casino, 385...        None  36.099575   \n",
       "\n",
       "    longitude     category  avg_rating  num_of_reviews     price   \n",
       "0 -115.176338  Coffee shop         3.2              24  No Price  \\\n",
       "2 -115.176338  Coffee shop         3.2              24  No Price   \n",
       "4 -115.176338  Coffee shop         3.2              24  No Price   \n",
       "6 -115.176338  Coffee shop         3.2              24  No Price   \n",
       "8 -115.176338  Coffee shop         3.2              24  No Price   \n",
       "\n",
       "               state  \n",
       "0  Open ⋅ Closes 2PM  \n",
       "2  Open ⋅ Closes 2PM  \n",
       "4  Open ⋅ Closes 2PM  \n",
       "6  Open ⋅ Closes 2PM  \n",
       "8  Open ⋅ Closes 2PM  "
      ]
     },
     "execution_count": 16,
     "metadata": {},
     "output_type": "execute_result"
    }
   ],
   "source": [
    "df_nv.head()"
   ]
  },
  {
   "cell_type": "code",
   "execution_count": 31,
   "metadata": {},
   "outputs": [
    {
     "name": "stdout",
     "output_type": "stream",
     "text": [
      "<class 'pandas.core.frame.DataFrame'>\n",
      "Index: 1375620 entries, 0 to 482595\n",
      "Data columns (total 14 columns):\n",
      " #   Column          Non-Null Count    Dtype         \n",
      "---  ------          --------------    -----         \n",
      " 0   user_id         1375620 non-null  float64       \n",
      " 1   time            1375620 non-null  datetime64[ns]\n",
      " 2   rating          1375620 non-null  int64         \n",
      " 3   text            841737 non-null   object        \n",
      " 4   business name   1375620 non-null  object        \n",
      " 5   address         1370277 non-null  object        \n",
      " 6   description     707912 non-null   object        \n",
      " 7   latitude        1375620 non-null  float64       \n",
      " 8   longitude       1375620 non-null  float64       \n",
      " 9   category        1375620 non-null  object        \n",
      " 10  avg_rating      1375620 non-null  float64       \n",
      " 11  num_of_reviews  1375620 non-null  int64         \n",
      " 12  price           1375620 non-null  object        \n",
      " 13  state           1317712 non-null  object        \n",
      "dtypes: datetime64[ns](1), float64(4), int64(2), object(7)\n",
      "memory usage: 157.4+ MB\n"
     ]
    }
   ],
   "source": [
    "df_nv.info()"
   ]
  },
  {
   "cell_type": "code",
   "execution_count": 32,
   "metadata": {},
   "outputs": [],
   "source": [
    "# Renombramos la columna \"name_y\" por \"business name\"\n",
    "df_nv.rename(columns={'name_y': 'business name'}, inplace=True)"
   ]
  },
  {
   "cell_type": "markdown",
   "metadata": {},
   "source": [
    "Realizamos un filtro de negocios relacionados con la hotelería, contenidos en la columna 'category'"
   ]
  },
  {
   "cell_type": "code",
   "execution_count": 33,
   "metadata": {},
   "outputs": [],
   "source": [
    "#Creamos una lista con las palabras clave\n",
    "keywords = ['Hotel', 'Hostel', 'Motel', 'Resort', 'Inn', 'Lodging', 'Lodge', 'Accommodation', \n",
    "            'Bed and Breakfast (B&B)', 'Guesthouse', 'Boutique Hotel', 'Vacation Rental', \n",
    "            'Homestay', 'Cabin', 'Suites', 'Spa Resort', 'Boutique Inn', 'Extended Stay', \n",
    "            'Boutique Accommodation', 'Retreat']\n",
    "\n",
    "\n",
    "# Se realiza la busqueda de coincidencias exactas de las palabras clave\n",
    "import re\n",
    "pattern = r'\\b(?:' + '|'.join(re.escape(keyword) for keyword in keywords) + r')\\b'\n",
    "\n",
    "\n",
    "# Creamos un dataframe de hoteles unicamente\n",
    "nv_hotels = df_nv[df_nv['category'].str.contains(pattern, case=False, na=False)]\n",
    "\n"
   ]
  },
  {
   "cell_type": "code",
   "execution_count": 34,
   "metadata": {},
   "outputs": [
    {
     "name": "stdout",
     "output_type": "stream",
     "text": [
      "<class 'pandas.core.frame.DataFrame'>\n",
      "Index: 3907 entries, 8245 to 464140\n",
      "Data columns (total 14 columns):\n",
      " #   Column          Non-Null Count  Dtype         \n",
      "---  ------          --------------  -----         \n",
      " 0   user_id         3907 non-null   float64       \n",
      " 1   time            3907 non-null   datetime64[ns]\n",
      " 2   rating          3907 non-null   int64         \n",
      " 3   text            2383 non-null   object        \n",
      " 4   business name   3907 non-null   object        \n",
      " 5   address         3907 non-null   object        \n",
      " 6   description     213 non-null    object        \n",
      " 7   latitude        3907 non-null   float64       \n",
      " 8   longitude       3907 non-null   float64       \n",
      " 9   category        3907 non-null   object        \n",
      " 10  avg_rating      3907 non-null   float64       \n",
      " 11  num_of_reviews  3907 non-null   int64         \n",
      " 12  price           3907 non-null   object        \n",
      " 13  state           766 non-null    object        \n",
      "dtypes: datetime64[ns](1), float64(4), int64(2), object(7)\n",
      "memory usage: 457.9+ KB\n"
     ]
    }
   ],
   "source": [
    "nv_hotels.info()"
   ]
  },
  {
   "cell_type": "code",
   "execution_count": 35,
   "metadata": {},
   "outputs": [
    {
     "data": {
      "text/html": [
       "<div>\n",
       "<style scoped>\n",
       "    .dataframe tbody tr th:only-of-type {\n",
       "        vertical-align: middle;\n",
       "    }\n",
       "\n",
       "    .dataframe tbody tr th {\n",
       "        vertical-align: top;\n",
       "    }\n",
       "\n",
       "    .dataframe thead th {\n",
       "        text-align: right;\n",
       "    }\n",
       "</style>\n",
       "<table border=\"1\" class=\"dataframe\">\n",
       "  <thead>\n",
       "    <tr style=\"text-align: right;\">\n",
       "      <th></th>\n",
       "      <th>user_id</th>\n",
       "      <th>time</th>\n",
       "      <th>rating</th>\n",
       "      <th>latitude</th>\n",
       "      <th>longitude</th>\n",
       "      <th>avg_rating</th>\n",
       "      <th>num_of_reviews</th>\n",
       "    </tr>\n",
       "  </thead>\n",
       "  <tbody>\n",
       "    <tr>\n",
       "      <th>count</th>\n",
       "      <td>1.375620e+06</td>\n",
       "      <td>1375620</td>\n",
       "      <td>1.375620e+06</td>\n",
       "      <td>1.375620e+06</td>\n",
       "      <td>1.375620e+06</td>\n",
       "      <td>1.375620e+06</td>\n",
       "      <td>1.375620e+06</td>\n",
       "    </tr>\n",
       "    <tr>\n",
       "      <th>mean</th>\n",
       "      <td>1.093160e+20</td>\n",
       "      <td>2019-04-08 03:27:32.202178048</td>\n",
       "      <td>4.241728e+00</td>\n",
       "      <td>3.681825e+01</td>\n",
       "      <td>-1.160234e+02</td>\n",
       "      <td>4.214695e+00</td>\n",
       "      <td>1.083728e+03</td>\n",
       "    </tr>\n",
       "    <tr>\n",
       "      <th>min</th>\n",
       "      <td>1.000000e+20</td>\n",
       "      <td>2005-06-10 00:00:00</td>\n",
       "      <td>1.000000e+00</td>\n",
       "      <td>3.512886e+01</td>\n",
       "      <td>-1.199955e+02</td>\n",
       "      <td>1.100000e+00</td>\n",
       "      <td>6.000000e+00</td>\n",
       "    </tr>\n",
       "    <tr>\n",
       "      <th>25%</th>\n",
       "      <td>1.047904e+20</td>\n",
       "      <td>2018-05-30 01:59:30.780000</td>\n",
       "      <td>4.000000e+00</td>\n",
       "      <td>3.609158e+01</td>\n",
       "      <td>-1.152982e+02</td>\n",
       "      <td>4.000000e+00</td>\n",
       "      <td>7.800000e+01</td>\n",
       "    </tr>\n",
       "    <tr>\n",
       "      <th>50%</th>\n",
       "      <td>1.093092e+20</td>\n",
       "      <td>2019-05-10 21:25:28.222000128</td>\n",
       "      <td>5.000000e+00</td>\n",
       "      <td>3.615698e+01</td>\n",
       "      <td>-1.151905e+02</td>\n",
       "      <td>4.300000e+00</td>\n",
       "      <td>2.250000e+02</td>\n",
       "    </tr>\n",
       "    <tr>\n",
       "      <th>75%</th>\n",
       "      <td>1.138704e+20</td>\n",
       "      <td>2020-04-24 00:06:42.374000128</td>\n",
       "      <td>5.000000e+00</td>\n",
       "      <td>3.625719e+01</td>\n",
       "      <td>-1.151230e+02</td>\n",
       "      <td>4.600000e+00</td>\n",
       "      <td>1.095000e+03</td>\n",
       "    </tr>\n",
       "    <tr>\n",
       "      <th>max</th>\n",
       "      <td>1.184467e+20</td>\n",
       "      <td>2021-09-07 10:09:29.993000</td>\n",
       "      <td>5.000000e+00</td>\n",
       "      <td>4.198962e+01</td>\n",
       "      <td>-1.140472e+02</td>\n",
       "      <td>5.000000e+00</td>\n",
       "      <td>9.998000e+03</td>\n",
       "    </tr>\n",
       "    <tr>\n",
       "      <th>std</th>\n",
       "      <td>5.277704e+18</td>\n",
       "      <td>NaN</td>\n",
       "      <td>1.202381e+00</td>\n",
       "      <td>1.384651e+00</td>\n",
       "      <td>1.770253e+00</td>\n",
       "      <td>4.788529e-01</td>\n",
       "      <td>1.991070e+03</td>\n",
       "    </tr>\n",
       "  </tbody>\n",
       "</table>\n",
       "</div>"
      ],
      "text/plain": [
       "            user_id                           time        rating   \n",
       "count  1.375620e+06                        1375620  1.375620e+06  \\\n",
       "mean   1.093160e+20  2019-04-08 03:27:32.202178048  4.241728e+00   \n",
       "min    1.000000e+20            2005-06-10 00:00:00  1.000000e+00   \n",
       "25%    1.047904e+20     2018-05-30 01:59:30.780000  4.000000e+00   \n",
       "50%    1.093092e+20  2019-05-10 21:25:28.222000128  5.000000e+00   \n",
       "75%    1.138704e+20  2020-04-24 00:06:42.374000128  5.000000e+00   \n",
       "max    1.184467e+20     2021-09-07 10:09:29.993000  5.000000e+00   \n",
       "std    5.277704e+18                            NaN  1.202381e+00   \n",
       "\n",
       "           latitude     longitude    avg_rating  num_of_reviews  \n",
       "count  1.375620e+06  1.375620e+06  1.375620e+06    1.375620e+06  \n",
       "mean   3.681825e+01 -1.160234e+02  4.214695e+00    1.083728e+03  \n",
       "min    3.512886e+01 -1.199955e+02  1.100000e+00    6.000000e+00  \n",
       "25%    3.609158e+01 -1.152982e+02  4.000000e+00    7.800000e+01  \n",
       "50%    3.615698e+01 -1.151905e+02  4.300000e+00    2.250000e+02  \n",
       "75%    3.625719e+01 -1.151230e+02  4.600000e+00    1.095000e+03  \n",
       "max    4.198962e+01 -1.140472e+02  5.000000e+00    9.998000e+03  \n",
       "std    1.384651e+00  1.770253e+00  4.788529e-01    1.991070e+03  "
      ]
     },
     "execution_count": 35,
     "metadata": {},
     "output_type": "execute_result"
    }
   ],
   "source": [
    "df_nv.describe()"
   ]
  },
  {
   "cell_type": "code",
   "execution_count": 36,
   "metadata": {},
   "outputs": [
    {
     "name": "stdout",
     "output_type": "stream",
     "text": [
      "<class 'pandas.core.frame.DataFrame'>\n",
      "Index: 3907 entries, 8245 to 464140\n",
      "Data columns (total 14 columns):\n",
      " #   Column          Non-Null Count  Dtype         \n",
      "---  ------          --------------  -----         \n",
      " 0   user_id         3907 non-null   float64       \n",
      " 1   time            3907 non-null   datetime64[ns]\n",
      " 2   rating          3907 non-null   int64         \n",
      " 3   text            2383 non-null   object        \n",
      " 4   business name   3907 non-null   object        \n",
      " 5   address         3907 non-null   object        \n",
      " 6   description     213 non-null    object        \n",
      " 7   latitude        3907 non-null   float64       \n",
      " 8   longitude       3907 non-null   float64       \n",
      " 9   category        3907 non-null   object        \n",
      " 10  avg_rating      3907 non-null   float64       \n",
      " 11  num_of_reviews  3907 non-null   int64         \n",
      " 12  price           3907 non-null   object        \n",
      " 13  state           766 non-null    object        \n",
      "dtypes: datetime64[ns](1), float64(4), int64(2), object(7)\n",
      "memory usage: 457.9+ KB\n"
     ]
    }
   ],
   "source": [
    "nv_hotels.info()"
   ]
  },
  {
   "cell_type": "code",
   "execution_count": 37,
   "metadata": {},
   "outputs": [
    {
     "data": {
      "text/html": [
       "<div>\n",
       "<style scoped>\n",
       "    .dataframe tbody tr th:only-of-type {\n",
       "        vertical-align: middle;\n",
       "    }\n",
       "\n",
       "    .dataframe tbody tr th {\n",
       "        vertical-align: top;\n",
       "    }\n",
       "\n",
       "    .dataframe thead th {\n",
       "        text-align: right;\n",
       "    }\n",
       "</style>\n",
       "<table border=\"1\" class=\"dataframe\">\n",
       "  <thead>\n",
       "    <tr style=\"text-align: right;\">\n",
       "      <th></th>\n",
       "      <th>user_id</th>\n",
       "      <th>time</th>\n",
       "      <th>rating</th>\n",
       "      <th>text</th>\n",
       "      <th>business name</th>\n",
       "      <th>address</th>\n",
       "      <th>description</th>\n",
       "      <th>latitude</th>\n",
       "      <th>longitude</th>\n",
       "      <th>category</th>\n",
       "      <th>avg_rating</th>\n",
       "      <th>num_of_reviews</th>\n",
       "      <th>price</th>\n",
       "      <th>state</th>\n",
       "    </tr>\n",
       "  </thead>\n",
       "  <tbody>\n",
       "    <tr>\n",
       "      <th>8245</th>\n",
       "      <td>1.107179e+20</td>\n",
       "      <td>2020-01-03 03:03:00.050</td>\n",
       "      <td>5</td>\n",
       "      <td>Clean rooms no bugs or rodents great price and...</td>\n",
       "      <td>Sunset Motel</td>\n",
       "      <td>Sunset Motel, 2091 W 4th St, Reno, NV 89503</td>\n",
       "      <td>None</td>\n",
       "      <td>39.523581</td>\n",
       "      <td>-119.837903</td>\n",
       "      <td>Motel</td>\n",
       "      <td>3.0</td>\n",
       "      <td>38</td>\n",
       "      <td>No Price</td>\n",
       "      <td>None</td>\n",
       "    </tr>\n",
       "    <tr>\n",
       "      <th>8246</th>\n",
       "      <td>1.040384e+20</td>\n",
       "      <td>2018-07-30 18:58:30.945</td>\n",
       "      <td>4</td>\n",
       "      <td>Very good for a Reno motel.  Clean and family ...</td>\n",
       "      <td>Sunset Motel</td>\n",
       "      <td>Sunset Motel, 2091 W 4th St, Reno, NV 89503</td>\n",
       "      <td>None</td>\n",
       "      <td>39.523581</td>\n",
       "      <td>-119.837903</td>\n",
       "      <td>Motel</td>\n",
       "      <td>3.0</td>\n",
       "      <td>38</td>\n",
       "      <td>No Price</td>\n",
       "      <td>None</td>\n",
       "    </tr>\n",
       "    <tr>\n",
       "      <th>8247</th>\n",
       "      <td>1.063300e+20</td>\n",
       "      <td>2018-06-18 02:48:23.106</td>\n",
       "      <td>4</td>\n",
       "      <td>Owner is very helpful to everyone he deals wit...</td>\n",
       "      <td>Sunset Motel</td>\n",
       "      <td>Sunset Motel, 2091 W 4th St, Reno, NV 89503</td>\n",
       "      <td>None</td>\n",
       "      <td>39.523581</td>\n",
       "      <td>-119.837903</td>\n",
       "      <td>Motel</td>\n",
       "      <td>3.0</td>\n",
       "      <td>38</td>\n",
       "      <td>No Price</td>\n",
       "      <td>None</td>\n",
       "    </tr>\n",
       "    <tr>\n",
       "      <th>8248</th>\n",
       "      <td>1.089285e+20</td>\n",
       "      <td>2018-08-23 06:16:42.832</td>\n",
       "      <td>5</td>\n",
       "      <td>I give this place 5 stars because Harry and hi...</td>\n",
       "      <td>Sunset Motel</td>\n",
       "      <td>Sunset Motel, 2091 W 4th St, Reno, NV 89503</td>\n",
       "      <td>None</td>\n",
       "      <td>39.523581</td>\n",
       "      <td>-119.837903</td>\n",
       "      <td>Motel</td>\n",
       "      <td>3.0</td>\n",
       "      <td>38</td>\n",
       "      <td>No Price</td>\n",
       "      <td>None</td>\n",
       "    </tr>\n",
       "    <tr>\n",
       "      <th>8249</th>\n",
       "      <td>1.175148e+20</td>\n",
       "      <td>2019-01-03 04:13:34.728</td>\n",
       "      <td>3</td>\n",
       "      <td>It keeps you warm and it's as clean as you'd e...</td>\n",
       "      <td>Sunset Motel</td>\n",
       "      <td>Sunset Motel, 2091 W 4th St, Reno, NV 89503</td>\n",
       "      <td>None</td>\n",
       "      <td>39.523581</td>\n",
       "      <td>-119.837903</td>\n",
       "      <td>Motel</td>\n",
       "      <td>3.0</td>\n",
       "      <td>38</td>\n",
       "      <td>No Price</td>\n",
       "      <td>None</td>\n",
       "    </tr>\n",
       "  </tbody>\n",
       "</table>\n",
       "</div>"
      ],
      "text/plain": [
       "           user_id                    time  rating   \n",
       "8245  1.107179e+20 2020-01-03 03:03:00.050       5  \\\n",
       "8246  1.040384e+20 2018-07-30 18:58:30.945       4   \n",
       "8247  1.063300e+20 2018-06-18 02:48:23.106       4   \n",
       "8248  1.089285e+20 2018-08-23 06:16:42.832       5   \n",
       "8249  1.175148e+20 2019-01-03 04:13:34.728       3   \n",
       "\n",
       "                                                   text business name   \n",
       "8245  Clean rooms no bugs or rodents great price and...  Sunset Motel  \\\n",
       "8246  Very good for a Reno motel.  Clean and family ...  Sunset Motel   \n",
       "8247  Owner is very helpful to everyone he deals wit...  Sunset Motel   \n",
       "8248  I give this place 5 stars because Harry and hi...  Sunset Motel   \n",
       "8249  It keeps you warm and it's as clean as you'd e...  Sunset Motel   \n",
       "\n",
       "                                          address description   latitude   \n",
       "8245  Sunset Motel, 2091 W 4th St, Reno, NV 89503        None  39.523581  \\\n",
       "8246  Sunset Motel, 2091 W 4th St, Reno, NV 89503        None  39.523581   \n",
       "8247  Sunset Motel, 2091 W 4th St, Reno, NV 89503        None  39.523581   \n",
       "8248  Sunset Motel, 2091 W 4th St, Reno, NV 89503        None  39.523581   \n",
       "8249  Sunset Motel, 2091 W 4th St, Reno, NV 89503        None  39.523581   \n",
       "\n",
       "       longitude category  avg_rating  num_of_reviews     price state  \n",
       "8245 -119.837903    Motel         3.0              38  No Price  None  \n",
       "8246 -119.837903    Motel         3.0              38  No Price  None  \n",
       "8247 -119.837903    Motel         3.0              38  No Price  None  \n",
       "8248 -119.837903    Motel         3.0              38  No Price  None  \n",
       "8249 -119.837903    Motel         3.0              38  No Price  None  "
      ]
     },
     "execution_count": 37,
     "metadata": {},
     "output_type": "execute_result"
    }
   ],
   "source": [
    "nv_hotels.head()"
   ]
  },
  {
   "cell_type": "code",
   "execution_count": 38,
   "metadata": {},
   "outputs": [],
   "source": [
    "nv_hotels.to_parquet('nv_hotels.parquet', index=False)"
   ]
  }
 ],
 "metadata": {
  "kernelspec": {
   "display_name": "Python 3",
   "language": "python",
   "name": "python3"
  },
  "language_info": {
   "codemirror_mode": {
    "name": "ipython",
    "version": 3
   },
   "file_extension": ".py",
   "mimetype": "text/x-python",
   "name": "python",
   "nbconvert_exporter": "python",
   "pygments_lexer": "ipython3",
   "version": "3.11.0"
  }
 },
 "nbformat": 4,
 "nbformat_minor": 2
}
