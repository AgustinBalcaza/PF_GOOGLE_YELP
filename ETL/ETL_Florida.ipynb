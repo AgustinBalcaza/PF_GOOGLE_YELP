{
 "cells": [
  {
   "cell_type": "markdown",
   "metadata": {},
   "source": [
    "### Descripción del proceso de unión de los datasets de metadatos y de reviews:"
   ]
  },
  {
   "cell_type": "code",
   "execution_count": 1,
   "metadata": {},
   "outputs": [],
   "source": [
    "import pandas as pd\n",
    "import numpy as np\n",
    "import seaborn as sns\n",
    "import matplotlib.pyplot as plt"
   ]
  },
  {
   "cell_type": "markdown",
   "metadata": {},
   "source": [
    "Cargamos los archivos json y los concatenamos:"
   ]
  },
  {
   "cell_type": "code",
   "execution_count": 2,
   "metadata": {},
   "outputs": [],
   "source": [
    "\n",
    "\n",
    "file_paths = ['Google Maps/reviews-estados/review-California/{}.json'.format(i) for i in range(1, 20)]\n",
    "\n",
    "dfs = [pd.read_json(file_path, lines=True) for file_path in file_paths]\n",
    "\n",
    "#Concatenamos todos los datasets:\n",
    "dfc = pd.concat(dfs, axis=0, join='inner')"
   ]
  },
  {
   "cell_type": "markdown",
   "metadata": {},
   "source": [
    "Estimamos conveniente realizar una combinación de los metadatos con los reviews. Para ello tomamos los grupos de\n",
    "metadatos que habíamos separado previamente para facilitar la manipulación: "
   ]
  },
  {
   "cell_type": "code",
   "execution_count": 4,
   "metadata": {},
   "outputs": [],
   "source": [
    "#Cargamos el dataset del metadata1\n",
    "metadata1= pd.read_parquet('Google Maps/metadata-sitios/metadata1.parquet')\n"
   ]
  },
  {
   "cell_type": "markdown",
   "metadata": {},
   "source": [
    "Realizamos una combinación entre los dataframes:"
   ]
  },
  {
   "cell_type": "code",
   "execution_count": 5,
   "metadata": {},
   "outputs": [],
   "source": [
    "\n",
    "FL1 = pd.merge(dfc, metadata1, on='gmap_id')"
   ]
  },
  {
   "cell_type": "code",
   "execution_count": 6,
   "metadata": {},
   "outputs": [],
   "source": [
    "# Guardamos el dataframe resultante en un archivo .parquet\n",
    "FL1.to_parquet('FL1.parquet', index=False)"
   ]
  },
  {
   "cell_type": "code",
   "execution_count": 7,
   "metadata": {},
   "outputs": [],
   "source": [
    "#Liberamos memoria:\n",
    "del FL1, metadata1"
   ]
  },
  {
   "cell_type": "code",
   "execution_count": 8,
   "metadata": {},
   "outputs": [],
   "source": [
    "\n",
    "#Cargamos la información del metadata2\n",
    "metadata2= pd.read_parquet('Google Maps/metadata-sitios/metadata2.parquet')"
   ]
  },
  {
   "cell_type": "code",
   "execution_count": 9,
   "metadata": {},
   "outputs": [],
   "source": [
    "#Realizamos una combinación entre los dataframes\n",
    "FL2 = pd.merge(dfc, metadata2, on='gmap_id')"
   ]
  },
  {
   "cell_type": "code",
   "execution_count": 10,
   "metadata": {},
   "outputs": [
    {
     "name": "stdout",
     "output_type": "stream",
     "text": [
      "<class 'pandas.core.frame.DataFrame'>\n",
      "RangeIndex: 256627 entries, 0 to 256626\n",
      "Data columns (total 22 columns):\n",
      " #   Column            Non-Null Count   Dtype  \n",
      "---  ------            --------------   -----  \n",
      " 0   user_id           256627 non-null  float64\n",
      " 1   name_x            256627 non-null  object \n",
      " 2   time              256627 non-null  int64  \n",
      " 3   rating            256627 non-null  int64  \n",
      " 4   text              159832 non-null  object \n",
      " 5   pics              11168 non-null   object \n",
      " 6   resp              31838 non-null   object \n",
      " 7   gmap_id           256627 non-null  object \n",
      " 8   name_y            256627 non-null  object \n",
      " 9   address           255866 non-null  object \n",
      " 10  description       139631 non-null  object \n",
      " 11  latitude          256627 non-null  float64\n",
      " 12  longitude         256627 non-null  float64\n",
      " 13  category          256616 non-null  object \n",
      " 14  avg_rating        256627 non-null  float64\n",
      " 15  num_of_reviews    256627 non-null  int64  \n",
      " 16  price             112864 non-null  object \n",
      " 17  hours             238053 non-null  object \n",
      " 18  MISC              247608 non-null  object \n",
      " 19  state             239256 non-null  object \n",
      " 20  relative_results  252113 non-null  object \n",
      " 21  url               256627 non-null  object \n",
      "dtypes: float64(4), int64(3), object(15)\n",
      "memory usage: 43.1+ MB\n"
     ]
    }
   ],
   "source": [
    "FL2.info()"
   ]
  },
  {
   "cell_type": "code",
   "execution_count": 12,
   "metadata": {},
   "outputs": [],
   "source": [
    "# Guardamos el dataframe resultante en un archivo .parquet\n",
    "FL2.to_parquet('FL2.parquet', index=False)"
   ]
  },
  {
   "cell_type": "code",
   "execution_count": 13,
   "metadata": {},
   "outputs": [],
   "source": [
    "#Liberamos memoria\n",
    "del FL2, metadata2"
   ]
  },
  {
   "cell_type": "code",
   "execution_count": 3,
   "metadata": {},
   "outputs": [],
   "source": [
    "#leemos los datos del metadata3\n",
    "metadata3= pd.read_parquet('Google Maps/metadata-sitios/metadata3.parquet')"
   ]
  },
  {
   "cell_type": "code",
   "execution_count": 4,
   "metadata": {},
   "outputs": [],
   "source": [
    "#Realizamos una combinación entre los dataframes\n",
    "FL3 = pd.merge(dfc, metadata3, on='gmap_id')"
   ]
  },
  {
   "cell_type": "code",
   "execution_count": 5,
   "metadata": {},
   "outputs": [
    {
     "name": "stdout",
     "output_type": "stream",
     "text": [
      "<class 'pandas.core.frame.DataFrame'>\n",
      "RangeIndex: 179747 entries, 0 to 179746\n",
      "Data columns (total 22 columns):\n",
      " #   Column            Non-Null Count   Dtype  \n",
      "---  ------            --------------   -----  \n",
      " 0   user_id           179747 non-null  float64\n",
      " 1   name_x            179747 non-null  object \n",
      " 2   time              179747 non-null  int64  \n",
      " 3   rating            179747 non-null  int64  \n",
      " 4   text              111242 non-null  object \n",
      " 5   pics              6765 non-null    object \n",
      " 6   resp              26300 non-null   object \n",
      " 7   gmap_id           179747 non-null  object \n",
      " 8   name_y            179747 non-null  object \n",
      " 9   address           179285 non-null  object \n",
      " 10  description       41502 non-null   object \n",
      " 11  latitude          179747 non-null  float64\n",
      " 12  longitude         179747 non-null  float64\n",
      " 13  category          179690 non-null  object \n",
      " 14  avg_rating        179747 non-null  float64\n",
      " 15  num_of_reviews    179747 non-null  int64  \n",
      " 16  price             47567 non-null   object \n",
      " 17  hours             162300 non-null  object \n",
      " 18  MISC              171913 non-null  object \n",
      " 19  state             164579 non-null  object \n",
      " 20  relative_results  172603 non-null  object \n",
      " 21  url               179747 non-null  object \n",
      "dtypes: float64(4), int64(3), object(15)\n",
      "memory usage: 30.2+ MB\n"
     ]
    }
   ],
   "source": [
    "FL3.info()"
   ]
  },
  {
   "cell_type": "code",
   "execution_count": 6,
   "metadata": {},
   "outputs": [],
   "source": [
    "# Guardamos el dataframe resultante en un archivo .parquet\n",
    "FL3.to_parquet('FL3.parquet', index=False)"
   ]
  },
  {
   "cell_type": "code",
   "execution_count": 3,
   "metadata": {},
   "outputs": [],
   "source": [
    "df_fl = pd.concat([pd.read_parquet(f'NV{i}.parquet') for i in range(1, 4)], axis=0, join='inner')"
   ]
  },
  {
   "cell_type": "markdown",
   "metadata": {},
   "source": [
    "Guardamos el dataset final correspondiente al estado de California: "
   ]
  },
  {
   "cell_type": "code",
   "execution_count": 4,
   "metadata": {},
   "outputs": [],
   "source": [
    "df_fl.to_parquet('df_nv.parquet', index=False)"
   ]
  },
  {
   "cell_type": "markdown",
   "metadata": {},
   "source": [
    "___________________________________________________________________________________________________________"
   ]
  },
  {
   "cell_type": "markdown",
   "metadata": {},
   "source": [
    "### Análisis Exploratorio de Datos - Google reviews:Estado de Florida"
   ]
  },
  {
   "cell_type": "markdown",
   "metadata": {},
   "source": [
    "En el presente notebook se realizará un análisis exploratorio de los datos de reviews de negocios relacionados al hospedaje realizadas en Google Maps en el estado de Florida:\n"
   ]
  },
  {
   "cell_type": "markdown",
   "metadata": {},
   "source": [
    "Realizamos la carga del dataset de Florida concatenado previamente:"
   ]
  },
  {
   "cell_type": "code",
   "execution_count": 2,
   "metadata": {},
   "outputs": [],
   "source": [
    "#Cargamos el dataset \n",
    "df_fl= pd.read_parquet('df_fl.parquet')"
   ]
  },
  {
   "cell_type": "code",
   "execution_count": 3,
   "metadata": {},
   "outputs": [
    {
     "name": "stdout",
     "output_type": "stream",
     "text": [
      "<class 'pandas.core.frame.DataFrame'>\n",
      "RangeIndex: 2869646 entries, 0 to 2869645\n",
      "Data columns (total 22 columns):\n",
      " #   Column            Dtype  \n",
      "---  ------            -----  \n",
      " 0   user_id           float64\n",
      " 1   name_x            object \n",
      " 2   time              int64  \n",
      " 3   rating            int64  \n",
      " 4   text              object \n",
      " 5   pics              object \n",
      " 6   resp              object \n",
      " 7   gmap_id           object \n",
      " 8   name_y            object \n",
      " 9   address           object \n",
      " 10  description       object \n",
      " 11  latitude          float64\n",
      " 12  longitude         float64\n",
      " 13  category          object \n",
      " 14  avg_rating        float64\n",
      " 15  num_of_reviews    int64  \n",
      " 16  price             object \n",
      " 17  hours             object \n",
      " 18  MISC              object \n",
      " 19  state             object \n",
      " 20  relative_results  object \n",
      " 21  url               object \n",
      "dtypes: float64(4), int64(3), object(15)\n",
      "memory usage: 481.7+ MB\n"
     ]
    }
   ],
   "source": [
    "#Verificamos la infomación y el tamaño del dataframe\n",
    "df_fl.info()"
   ]
  },
  {
   "cell_type": "markdown",
   "metadata": {},
   "source": [
    "Primero analizamos las columnas 'name_x', 'pics', 'resp', 'MISC' y 'url' y decidimos eliminarlas por los siguientes motivos:\n",
    "'name_x': Nombre de usuario irrelevante para nuestro estudio.\n",
    "'pics'  : Corresponden a fotografías tomadas por los usuarios. La eliminaremos ya que no las consideramos necesarias.\n",
    "'resp'  : Respuesta del establecimiento a la review del usuario. El numero de datos es muy pequeño.\n",
    "'MISC'  : Opciones del servicio. No son relevantes en nuestro estudio.\n",
    "'gmap_id':  Códigos de google que no tienen significado relevante.\n",
    "'relative_results': Códigos de google que no tienen significado relevante.\n",
    "'url'   : Dirección web del establecimiento comercial. No relevante.\n"
   ]
  },
  {
   "cell_type": "code",
   "execution_count": 4,
   "metadata": {},
   "outputs": [],
   "source": [
    "#Eliminamos las columnas que no se usarán en el análisis: \n",
    "\n",
    "df_fl= df_fl.drop(['name_x','pics', 'resp', 'MISC', 'url', 'relative_results', 'gmap_id', 'hours'], axis=1)"
   ]
  },
  {
   "cell_type": "markdown",
   "metadata": {},
   "source": [
    "Verificamos la cantidad de valores nulos:"
   ]
  },
  {
   "cell_type": "code",
   "execution_count": 5,
   "metadata": {},
   "outputs": [
    {
     "name": "stdout",
     "output_type": "stream",
     "text": [
      "user_id                 0\n",
      "time                    0\n",
      "rating                  0\n",
      "text              1085638\n",
      "name_y                  0\n",
      "address             19654\n",
      "description       1527743\n",
      "latitude                0\n",
      "longitude               0\n",
      "category             1381\n",
      "avg_rating              0\n",
      "num_of_reviews          0\n",
      "price             1582625\n",
      "state              206090\n",
      "dtype: int64\n"
     ]
    }
   ],
   "source": [
    "null_counts = df_fl.isnull().sum()\n",
    "print(null_counts)"
   ]
  },
  {
   "cell_type": "markdown",
   "metadata": {},
   "source": [
    "De acuerdo a lo anterior, existe una gran cantidad de valores faltantes en la columna \"text\", que contiene los comentarios de las reviews realizadas por el usuario. Se decide mantener las mismas, ya que tal vez podamos implementar algún método para completar los mismos a través del rating ingresado por el usuario De igual manera para las columnas \"description\", \"address\", \"price\" y \"state\". \n",
    "\n"
   ]
  },
  {
   "cell_type": "markdown",
   "metadata": {},
   "source": [
    "Desanidamos la columna 'category':"
   ]
  },
  {
   "cell_type": "code",
   "execution_count": 6,
   "metadata": {},
   "outputs": [],
   "source": [
    "df_fl = df_fl.explode('category')\n",
    "df_fl = df_fl.dropna(subset=['category'])"
   ]
  },
  {
   "cell_type": "code",
   "execution_count": 7,
   "metadata": {},
   "outputs": [
    {
     "data": {
      "text/plain": [
       "502499"
      ]
     },
     "execution_count": 7,
     "metadata": {},
     "output_type": "execute_result"
    }
   ],
   "source": [
    "# Se controla que no existan filas duplicadas:\n",
    "df_fl.duplicated().sum()"
   ]
  },
  {
   "cell_type": "code",
   "execution_count": 8,
   "metadata": {},
   "outputs": [
    {
     "data": {
      "text/plain": [
       "(9191314, 14)"
      ]
     },
     "execution_count": 8,
     "metadata": {},
     "output_type": "execute_result"
    }
   ],
   "source": [
    "# Se eliminan valores duplicados:\n",
    "df_fl= df_fl.drop_duplicates()\n",
    "df_fl.shape"
   ]
  },
  {
   "cell_type": "markdown",
   "metadata": {},
   "source": [
    "Llenamos los datos faltantes de la columna \"price\" por 'no price'"
   ]
  },
  {
   "cell_type": "code",
   "execution_count": 9,
   "metadata": {},
   "outputs": [],
   "source": [
    "df_fl['price'].fillna('No Price', inplace=True)\n"
   ]
  },
  {
   "cell_type": "markdown",
   "metadata": {},
   "source": [
    "Cambiamos el tipo de dato de la columna time a datetime:"
   ]
  },
  {
   "cell_type": "code",
   "execution_count": 10,
   "metadata": {},
   "outputs": [],
   "source": [
    "df_fl['time'] = pd.to_datetime(df_fl['time'], unit='ms')"
   ]
  },
  {
   "cell_type": "code",
   "execution_count": 11,
   "metadata": {},
   "outputs": [
    {
     "data": {
      "text/html": [
       "<div>\n",
       "<style scoped>\n",
       "    .dataframe tbody tr th:only-of-type {\n",
       "        vertical-align: middle;\n",
       "    }\n",
       "\n",
       "    .dataframe tbody tr th {\n",
       "        vertical-align: top;\n",
       "    }\n",
       "\n",
       "    .dataframe thead th {\n",
       "        text-align: right;\n",
       "    }\n",
       "</style>\n",
       "<table border=\"1\" class=\"dataframe\">\n",
       "  <thead>\n",
       "    <tr style=\"text-align: right;\">\n",
       "      <th></th>\n",
       "      <th>user_id</th>\n",
       "      <th>time</th>\n",
       "      <th>rating</th>\n",
       "      <th>text</th>\n",
       "      <th>name_y</th>\n",
       "      <th>address</th>\n",
       "      <th>description</th>\n",
       "      <th>latitude</th>\n",
       "      <th>longitude</th>\n",
       "      <th>category</th>\n",
       "      <th>avg_rating</th>\n",
       "      <th>num_of_reviews</th>\n",
       "      <th>price</th>\n",
       "      <th>state</th>\n",
       "    </tr>\n",
       "  </thead>\n",
       "  <tbody>\n",
       "    <tr>\n",
       "      <th>0</th>\n",
       "      <td>1.014719e+20</td>\n",
       "      <td>2021-08-03 15:07:30.740</td>\n",
       "      <td>1</td>\n",
       "      <td>Update: Their “reply” to my review amounted to...</td>\n",
       "      <td>Brian Shaheen, MD</td>\n",
       "      <td>Brian Shaheen, MD, 2421 Thomas Dr, Panama City...</td>\n",
       "      <td>None</td>\n",
       "      <td>30.159982</td>\n",
       "      <td>-85.752277</td>\n",
       "      <td>Family practice physician</td>\n",
       "      <td>4.2</td>\n",
       "      <td>18</td>\n",
       "      <td>No Price</td>\n",
       "      <td>Open ⋅ Closes 5PM</td>\n",
       "    </tr>\n",
       "    <tr>\n",
       "      <th>0</th>\n",
       "      <td>1.014719e+20</td>\n",
       "      <td>2021-08-03 15:07:30.740</td>\n",
       "      <td>1</td>\n",
       "      <td>Update: Their “reply” to my review amounted to...</td>\n",
       "      <td>Brian Shaheen, MD</td>\n",
       "      <td>Brian Shaheen, MD, 2421 Thomas Dr, Panama City...</td>\n",
       "      <td>None</td>\n",
       "      <td>30.159982</td>\n",
       "      <td>-85.752277</td>\n",
       "      <td>General practitioner</td>\n",
       "      <td>4.2</td>\n",
       "      <td>18</td>\n",
       "      <td>No Price</td>\n",
       "      <td>Open ⋅ Closes 5PM</td>\n",
       "    </tr>\n",
       "    <tr>\n",
       "      <th>2</th>\n",
       "      <td>1.154772e+20</td>\n",
       "      <td>2020-07-18 00:13:37.005</td>\n",
       "      <td>5</td>\n",
       "      <td>He's a knowledgeable doctor but the way he run...</td>\n",
       "      <td>Brian Shaheen, MD</td>\n",
       "      <td>Brian Shaheen, MD, 2421 Thomas Dr, Panama City...</td>\n",
       "      <td>None</td>\n",
       "      <td>30.159982</td>\n",
       "      <td>-85.752277</td>\n",
       "      <td>Family practice physician</td>\n",
       "      <td>4.2</td>\n",
       "      <td>18</td>\n",
       "      <td>No Price</td>\n",
       "      <td>Open ⋅ Closes 5PM</td>\n",
       "    </tr>\n",
       "    <tr>\n",
       "      <th>2</th>\n",
       "      <td>1.154772e+20</td>\n",
       "      <td>2020-07-18 00:13:37.005</td>\n",
       "      <td>5</td>\n",
       "      <td>He's a knowledgeable doctor but the way he run...</td>\n",
       "      <td>Brian Shaheen, MD</td>\n",
       "      <td>Brian Shaheen, MD, 2421 Thomas Dr, Panama City...</td>\n",
       "      <td>None</td>\n",
       "      <td>30.159982</td>\n",
       "      <td>-85.752277</td>\n",
       "      <td>General practitioner</td>\n",
       "      <td>4.2</td>\n",
       "      <td>18</td>\n",
       "      <td>No Price</td>\n",
       "      <td>Open ⋅ Closes 5PM</td>\n",
       "    </tr>\n",
       "    <tr>\n",
       "      <th>4</th>\n",
       "      <td>1.018050e+20</td>\n",
       "      <td>2018-04-05 10:30:53.567</td>\n",
       "      <td>5</td>\n",
       "      <td>Best doctor I've ever had, I never wait to be ...</td>\n",
       "      <td>Brian Shaheen, MD</td>\n",
       "      <td>Brian Shaheen, MD, 2421 Thomas Dr, Panama City...</td>\n",
       "      <td>None</td>\n",
       "      <td>30.159982</td>\n",
       "      <td>-85.752277</td>\n",
       "      <td>Family practice physician</td>\n",
       "      <td>4.2</td>\n",
       "      <td>18</td>\n",
       "      <td>No Price</td>\n",
       "      <td>Open ⋅ Closes 5PM</td>\n",
       "    </tr>\n",
       "  </tbody>\n",
       "</table>\n",
       "</div>"
      ],
      "text/plain": [
       "        user_id                    time  rating   \n",
       "0  1.014719e+20 2021-08-03 15:07:30.740       1  \\\n",
       "0  1.014719e+20 2021-08-03 15:07:30.740       1   \n",
       "2  1.154772e+20 2020-07-18 00:13:37.005       5   \n",
       "2  1.154772e+20 2020-07-18 00:13:37.005       5   \n",
       "4  1.018050e+20 2018-04-05 10:30:53.567       5   \n",
       "\n",
       "                                                text             name_y   \n",
       "0  Update: Their “reply” to my review amounted to...  Brian Shaheen, MD  \\\n",
       "0  Update: Their “reply” to my review amounted to...  Brian Shaheen, MD   \n",
       "2  He's a knowledgeable doctor but the way he run...  Brian Shaheen, MD   \n",
       "2  He's a knowledgeable doctor but the way he run...  Brian Shaheen, MD   \n",
       "4  Best doctor I've ever had, I never wait to be ...  Brian Shaheen, MD   \n",
       "\n",
       "                                             address description   latitude   \n",
       "0  Brian Shaheen, MD, 2421 Thomas Dr, Panama City...        None  30.159982  \\\n",
       "0  Brian Shaheen, MD, 2421 Thomas Dr, Panama City...        None  30.159982   \n",
       "2  Brian Shaheen, MD, 2421 Thomas Dr, Panama City...        None  30.159982   \n",
       "2  Brian Shaheen, MD, 2421 Thomas Dr, Panama City...        None  30.159982   \n",
       "4  Brian Shaheen, MD, 2421 Thomas Dr, Panama City...        None  30.159982   \n",
       "\n",
       "   longitude                   category  avg_rating  num_of_reviews     price   \n",
       "0 -85.752277  Family practice physician         4.2              18  No Price  \\\n",
       "0 -85.752277       General practitioner         4.2              18  No Price   \n",
       "2 -85.752277  Family practice physician         4.2              18  No Price   \n",
       "2 -85.752277       General practitioner         4.2              18  No Price   \n",
       "4 -85.752277  Family practice physician         4.2              18  No Price   \n",
       "\n",
       "               state  \n",
       "0  Open ⋅ Closes 5PM  \n",
       "0  Open ⋅ Closes 5PM  \n",
       "2  Open ⋅ Closes 5PM  \n",
       "2  Open ⋅ Closes 5PM  \n",
       "4  Open ⋅ Closes 5PM  "
      ]
     },
     "execution_count": 11,
     "metadata": {},
     "output_type": "execute_result"
    }
   ],
   "source": [
    "df_fl.head()"
   ]
  },
  {
   "cell_type": "code",
   "execution_count": 12,
   "metadata": {},
   "outputs": [
    {
     "name": "stdout",
     "output_type": "stream",
     "text": [
      "<class 'pandas.core.frame.DataFrame'>\n",
      "Index: 9191314 entries, 0 to 2869643\n",
      "Data columns (total 14 columns):\n",
      " #   Column          Dtype         \n",
      "---  ------          -----         \n",
      " 0   user_id         float64       \n",
      " 1   time            datetime64[ns]\n",
      " 2   rating          int64         \n",
      " 3   text            object        \n",
      " 4   name_y          object        \n",
      " 5   address         object        \n",
      " 6   description     object        \n",
      " 7   latitude        float64       \n",
      " 8   longitude       float64       \n",
      " 9   category        object        \n",
      " 10  avg_rating      float64       \n",
      " 11  num_of_reviews  int64         \n",
      " 12  price           object        \n",
      " 13  state           object        \n",
      "dtypes: datetime64[ns](1), float64(4), int64(2), object(7)\n",
      "memory usage: 1.0+ GB\n"
     ]
    }
   ],
   "source": [
    "df_fl.info()"
   ]
  },
  {
   "cell_type": "code",
   "execution_count": 13,
   "metadata": {},
   "outputs": [],
   "source": [
    "# Renombramos la columna \"name_y\" por \"business name\"\n",
    "df_fl.rename(columns={'name_y': 'business name'}, inplace=True)"
   ]
  },
  {
   "cell_type": "markdown",
   "metadata": {},
   "source": [
    "Realizamos un filtro de negocios relacionados con la hotelería, contenidos en la columna 'category'"
   ]
  },
  {
   "cell_type": "code",
   "execution_count": 14,
   "metadata": {},
   "outputs": [],
   "source": [
    "#Creamos una lista con las palabras clave\n",
    "keywords = ['Hotel', 'Hostel', 'Motel', 'Resort', 'Inn', 'Lodging', 'Lodge', 'Accommodation', \n",
    "            'Bed and Breakfast (B&B)', 'Guesthouse', 'Boutique Hotel', 'Vacation Rental', \n",
    "            'Homestay', 'Cabin', 'Suites', 'Spa Resort', 'Boutique Inn', 'Extended Stay', \n",
    "            'Boutique Accommodation', 'Retreat']\n",
    "\n",
    "\n",
    "# Se realiza la busqueda de coincidencias exactas de las palabras clave\n",
    "import re\n",
    "pattern = r'\\b(?:' + '|'.join(re.escape(keyword) for keyword in keywords) + r')\\b'\n",
    "\n",
    "\n",
    "# Creamos un dataframe de hoteles unicamente\n",
    "fl_hotels = df_fl[df_fl['category'].str.contains(pattern, case=False, na=False)]\n",
    "\n"
   ]
  },
  {
   "cell_type": "code",
   "execution_count": 15,
   "metadata": {},
   "outputs": [
    {
     "name": "stdout",
     "output_type": "stream",
     "text": [
      "<class 'pandas.core.frame.DataFrame'>\n",
      "Index: 8240 entries, 8580 to 2824135\n",
      "Data columns (total 14 columns):\n",
      " #   Column          Non-Null Count  Dtype         \n",
      "---  ------          --------------  -----         \n",
      " 0   user_id         8240 non-null   float64       \n",
      " 1   time            8240 non-null   datetime64[ns]\n",
      " 2   rating          8240 non-null   int64         \n",
      " 3   text            5052 non-null   object        \n",
      " 4   business name   8240 non-null   object        \n",
      " 5   address         8240 non-null   object        \n",
      " 6   description     3526 non-null   object        \n",
      " 7   latitude        8240 non-null   float64       \n",
      " 8   longitude       8240 non-null   float64       \n",
      " 9   category        8240 non-null   object        \n",
      " 10  avg_rating      8240 non-null   float64       \n",
      " 11  num_of_reviews  8240 non-null   int64         \n",
      " 12  price           8240 non-null   object        \n",
      " 13  state           140 non-null    object        \n",
      "dtypes: datetime64[ns](1), float64(4), int64(2), object(7)\n",
      "memory usage: 965.6+ KB\n"
     ]
    }
   ],
   "source": [
    "fl_hotels.info()"
   ]
  },
  {
   "cell_type": "code",
   "execution_count": 16,
   "metadata": {},
   "outputs": [
    {
     "data": {
      "text/html": [
       "<div>\n",
       "<style scoped>\n",
       "    .dataframe tbody tr th:only-of-type {\n",
       "        vertical-align: middle;\n",
       "    }\n",
       "\n",
       "    .dataframe tbody tr th {\n",
       "        vertical-align: top;\n",
       "    }\n",
       "\n",
       "    .dataframe thead th {\n",
       "        text-align: right;\n",
       "    }\n",
       "</style>\n",
       "<table border=\"1\" class=\"dataframe\">\n",
       "  <thead>\n",
       "    <tr style=\"text-align: right;\">\n",
       "      <th></th>\n",
       "      <th>user_id</th>\n",
       "      <th>time</th>\n",
       "      <th>rating</th>\n",
       "      <th>latitude</th>\n",
       "      <th>longitude</th>\n",
       "      <th>avg_rating</th>\n",
       "      <th>num_of_reviews</th>\n",
       "    </tr>\n",
       "  </thead>\n",
       "  <tbody>\n",
       "    <tr>\n",
       "      <th>count</th>\n",
       "      <td>8.240000e+03</td>\n",
       "      <td>8240</td>\n",
       "      <td>8240.000000</td>\n",
       "      <td>8240.000000</td>\n",
       "      <td>8240.000000</td>\n",
       "      <td>8240.000000</td>\n",
       "      <td>8240.000000</td>\n",
       "    </tr>\n",
       "    <tr>\n",
       "      <th>mean</th>\n",
       "      <td>1.093445e+20</td>\n",
       "      <td>2018-10-27 09:57:13.618773760</td>\n",
       "      <td>3.992840</td>\n",
       "      <td>28.301509</td>\n",
       "      <td>-81.781900</td>\n",
       "      <td>3.899114</td>\n",
       "      <td>209.320752</td>\n",
       "    </tr>\n",
       "    <tr>\n",
       "      <th>min</th>\n",
       "      <td>1.000044e+20</td>\n",
       "      <td>2010-06-01 13:19:56.098000</td>\n",
       "      <td>1.000000</td>\n",
       "      <td>24.567741</td>\n",
       "      <td>-87.335831</td>\n",
       "      <td>1.700000</td>\n",
       "      <td>8.000000</td>\n",
       "    </tr>\n",
       "    <tr>\n",
       "      <th>25%</th>\n",
       "      <td>1.049090e+20</td>\n",
       "      <td>2017-11-20 22:39:54.828750080</td>\n",
       "      <td>3.000000</td>\n",
       "      <td>27.471287</td>\n",
       "      <td>-82.284642</td>\n",
       "      <td>3.200000</td>\n",
       "      <td>38.000000</td>\n",
       "    </tr>\n",
       "    <tr>\n",
       "      <th>50%</th>\n",
       "      <td>1.091813e+20</td>\n",
       "      <td>2018-11-22 02:41:01.690000128</td>\n",
       "      <td>5.000000</td>\n",
       "      <td>28.399987</td>\n",
       "      <td>-81.546144</td>\n",
       "      <td>4.200000</td>\n",
       "      <td>75.000000</td>\n",
       "    </tr>\n",
       "    <tr>\n",
       "      <th>75%</th>\n",
       "      <td>1.139757e+20</td>\n",
       "      <td>2019-10-01 04:09:53.748000</td>\n",
       "      <td>5.000000</td>\n",
       "      <td>29.468722</td>\n",
       "      <td>-81.276165</td>\n",
       "      <td>4.500000</td>\n",
       "      <td>238.000000</td>\n",
       "    </tr>\n",
       "    <tr>\n",
       "      <th>max</th>\n",
       "      <td>1.184463e+20</td>\n",
       "      <td>2021-09-05 02:20:23.092000</td>\n",
       "      <td>5.000000</td>\n",
       "      <td>30.790038</td>\n",
       "      <td>-80.058026</td>\n",
       "      <td>5.000000</td>\n",
       "      <td>828.000000</td>\n",
       "    </tr>\n",
       "    <tr>\n",
       "      <th>std</th>\n",
       "      <td>5.231066e+18</td>\n",
       "      <td>NaN</td>\n",
       "      <td>1.369947</td>\n",
       "      <td>1.485378</td>\n",
       "      <td>1.390632</td>\n",
       "      <td>0.768984</td>\n",
       "      <td>269.216817</td>\n",
       "    </tr>\n",
       "  </tbody>\n",
       "</table>\n",
       "</div>"
      ],
      "text/plain": [
       "            user_id                           time       rating     latitude   \n",
       "count  8.240000e+03                           8240  8240.000000  8240.000000  \\\n",
       "mean   1.093445e+20  2018-10-27 09:57:13.618773760     3.992840    28.301509   \n",
       "min    1.000044e+20     2010-06-01 13:19:56.098000     1.000000    24.567741   \n",
       "25%    1.049090e+20  2017-11-20 22:39:54.828750080     3.000000    27.471287   \n",
       "50%    1.091813e+20  2018-11-22 02:41:01.690000128     5.000000    28.399987   \n",
       "75%    1.139757e+20     2019-10-01 04:09:53.748000     5.000000    29.468722   \n",
       "max    1.184463e+20     2021-09-05 02:20:23.092000     5.000000    30.790038   \n",
       "std    5.231066e+18                            NaN     1.369947     1.485378   \n",
       "\n",
       "         longitude   avg_rating  num_of_reviews  \n",
       "count  8240.000000  8240.000000     8240.000000  \n",
       "mean    -81.781900     3.899114      209.320752  \n",
       "min     -87.335831     1.700000        8.000000  \n",
       "25%     -82.284642     3.200000       38.000000  \n",
       "50%     -81.546144     4.200000       75.000000  \n",
       "75%     -81.276165     4.500000      238.000000  \n",
       "max     -80.058026     5.000000      828.000000  \n",
       "std       1.390632     0.768984      269.216817  "
      ]
     },
     "execution_count": 16,
     "metadata": {},
     "output_type": "execute_result"
    }
   ],
   "source": [
    "fl_hotels.describe()"
   ]
  },
  {
   "cell_type": "code",
   "execution_count": 18,
   "metadata": {},
   "outputs": [
    {
     "data": {
      "text/html": [
       "<div>\n",
       "<style scoped>\n",
       "    .dataframe tbody tr th:only-of-type {\n",
       "        vertical-align: middle;\n",
       "    }\n",
       "\n",
       "    .dataframe tbody tr th {\n",
       "        vertical-align: top;\n",
       "    }\n",
       "\n",
       "    .dataframe thead th {\n",
       "        text-align: right;\n",
       "    }\n",
       "</style>\n",
       "<table border=\"1\" class=\"dataframe\">\n",
       "  <thead>\n",
       "    <tr style=\"text-align: right;\">\n",
       "      <th></th>\n",
       "      <th>user_id</th>\n",
       "      <th>time</th>\n",
       "      <th>rating</th>\n",
       "      <th>text</th>\n",
       "      <th>business name</th>\n",
       "      <th>address</th>\n",
       "      <th>description</th>\n",
       "      <th>latitude</th>\n",
       "      <th>longitude</th>\n",
       "      <th>category</th>\n",
       "      <th>avg_rating</th>\n",
       "      <th>num_of_reviews</th>\n",
       "      <th>price</th>\n",
       "      <th>state</th>\n",
       "    </tr>\n",
       "  </thead>\n",
       "  <tbody>\n",
       "    <tr>\n",
       "      <th>8580</th>\n",
       "      <td>1.006212e+20</td>\n",
       "      <td>2020-11-02 20:17:10.289</td>\n",
       "      <td>5</td>\n",
       "      <td>The beach is simply beautiful, totally recomme...</td>\n",
       "      <td>Anna Maria Beach</td>\n",
       "      <td>Anna Maria Beach, Holmes Beach, FL 34217</td>\n",
       "      <td>None</td>\n",
       "      <td>27.497579</td>\n",
       "      <td>-82.712635</td>\n",
       "      <td>Lodging</td>\n",
       "      <td>4.8</td>\n",
       "      <td>8</td>\n",
       "      <td>No Price</td>\n",
       "      <td>None</td>\n",
       "    </tr>\n",
       "    <tr>\n",
       "      <th>8582</th>\n",
       "      <td>1.010228e+20</td>\n",
       "      <td>2021-01-12 01:37:06.400</td>\n",
       "      <td>5</td>\n",
       "      <td>If you want to feel lile you are living in an ...</td>\n",
       "      <td>Anna Maria Beach</td>\n",
       "      <td>Anna Maria Beach, Holmes Beach, FL 34217</td>\n",
       "      <td>None</td>\n",
       "      <td>27.497579</td>\n",
       "      <td>-82.712635</td>\n",
       "      <td>Lodging</td>\n",
       "      <td>4.8</td>\n",
       "      <td>8</td>\n",
       "      <td>No Price</td>\n",
       "      <td>None</td>\n",
       "    </tr>\n",
       "    <tr>\n",
       "      <th>8584</th>\n",
       "      <td>1.034052e+20</td>\n",
       "      <td>2021-03-08 02:05:03.569</td>\n",
       "      <td>5</td>\n",
       "      <td>Quiet beach, highly recommend</td>\n",
       "      <td>Anna Maria Beach</td>\n",
       "      <td>Anna Maria Beach, Holmes Beach, FL 34217</td>\n",
       "      <td>None</td>\n",
       "      <td>27.497579</td>\n",
       "      <td>-82.712635</td>\n",
       "      <td>Lodging</td>\n",
       "      <td>4.8</td>\n",
       "      <td>8</td>\n",
       "      <td>No Price</td>\n",
       "      <td>None</td>\n",
       "    </tr>\n",
       "    <tr>\n",
       "      <th>8586</th>\n",
       "      <td>1.118156e+20</td>\n",
       "      <td>2021-05-15 19:45:25.511</td>\n",
       "      <td>5</td>\n",
       "      <td>(Translated by Google) The ideal place to admi...</td>\n",
       "      <td>Anna Maria Beach</td>\n",
       "      <td>Anna Maria Beach, Holmes Beach, FL 34217</td>\n",
       "      <td>None</td>\n",
       "      <td>27.497579</td>\n",
       "      <td>-82.712635</td>\n",
       "      <td>Lodging</td>\n",
       "      <td>4.8</td>\n",
       "      <td>8</td>\n",
       "      <td>No Price</td>\n",
       "      <td>None</td>\n",
       "    </tr>\n",
       "    <tr>\n",
       "      <th>8588</th>\n",
       "      <td>1.118296e+20</td>\n",
       "      <td>2020-08-28 00:58:58.361</td>\n",
       "      <td>4</td>\n",
       "      <td>None</td>\n",
       "      <td>Anna Maria Beach</td>\n",
       "      <td>Anna Maria Beach, Holmes Beach, FL 34217</td>\n",
       "      <td>None</td>\n",
       "      <td>27.497579</td>\n",
       "      <td>-82.712635</td>\n",
       "      <td>Lodging</td>\n",
       "      <td>4.8</td>\n",
       "      <td>8</td>\n",
       "      <td>No Price</td>\n",
       "      <td>None</td>\n",
       "    </tr>\n",
       "  </tbody>\n",
       "</table>\n",
       "</div>"
      ],
      "text/plain": [
       "           user_id                    time  rating   \n",
       "8580  1.006212e+20 2020-11-02 20:17:10.289       5  \\\n",
       "8582  1.010228e+20 2021-01-12 01:37:06.400       5   \n",
       "8584  1.034052e+20 2021-03-08 02:05:03.569       5   \n",
       "8586  1.118156e+20 2021-05-15 19:45:25.511       5   \n",
       "8588  1.118296e+20 2020-08-28 00:58:58.361       4   \n",
       "\n",
       "                                                   text     business name   \n",
       "8580  The beach is simply beautiful, totally recomme...  Anna Maria Beach  \\\n",
       "8582  If you want to feel lile you are living in an ...  Anna Maria Beach   \n",
       "8584                      Quiet beach, highly recommend  Anna Maria Beach   \n",
       "8586  (Translated by Google) The ideal place to admi...  Anna Maria Beach   \n",
       "8588                                               None  Anna Maria Beach   \n",
       "\n",
       "                                       address description   latitude   \n",
       "8580  Anna Maria Beach, Holmes Beach, FL 34217        None  27.497579  \\\n",
       "8582  Anna Maria Beach, Holmes Beach, FL 34217        None  27.497579   \n",
       "8584  Anna Maria Beach, Holmes Beach, FL 34217        None  27.497579   \n",
       "8586  Anna Maria Beach, Holmes Beach, FL 34217        None  27.497579   \n",
       "8588  Anna Maria Beach, Holmes Beach, FL 34217        None  27.497579   \n",
       "\n",
       "      longitude category  avg_rating  num_of_reviews     price state  \n",
       "8580 -82.712635  Lodging         4.8               8  No Price  None  \n",
       "8582 -82.712635  Lodging         4.8               8  No Price  None  \n",
       "8584 -82.712635  Lodging         4.8               8  No Price  None  \n",
       "8586 -82.712635  Lodging         4.8               8  No Price  None  \n",
       "8588 -82.712635  Lodging         4.8               8  No Price  None  "
      ]
     },
     "execution_count": 18,
     "metadata": {},
     "output_type": "execute_result"
    }
   ],
   "source": [
    "fl_hotels.head()"
   ]
  },
  {
   "cell_type": "code",
   "execution_count": 19,
   "metadata": {},
   "outputs": [],
   "source": [
    "fl_hotels.to_parquet('fl_hotels.parquet', index=False)"
   ]
  }
 ],
 "metadata": {
  "kernelspec": {
   "display_name": "Python 3",
   "language": "python",
   "name": "python3"
  },
  "language_info": {
   "codemirror_mode": {
    "name": "ipython",
    "version": 3
   },
   "file_extension": ".py",
   "mimetype": "text/x-python",
   "name": "python",
   "nbconvert_exporter": "python",
   "pygments_lexer": "ipython3",
   "version": "3.11.0"
  }
 },
 "nbformat": 4,
 "nbformat_minor": 2
}
