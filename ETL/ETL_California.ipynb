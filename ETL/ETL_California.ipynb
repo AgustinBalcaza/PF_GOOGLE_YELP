{
 "cells": [
  {
   "cell_type": "markdown",
   "metadata": {},
   "source": [
    "### Descripción del proceso de unión de los datasets de metadatos y de reviews:"
   ]
  },
  {
   "cell_type": "code",
   "execution_count": 2,
   "metadata": {},
   "outputs": [],
   "source": [
    "import pandas as pd\n",
    "import numpy as np\n",
    "import seaborn as sns\n",
    "import matplotlib.pyplot as plt"
   ]
  },
  {
   "cell_type": "markdown",
   "metadata": {},
   "source": [
    "Cargamos los archivos json y los concatenamos:"
   ]
  },
  {
   "cell_type": "code",
   "execution_count": 2,
   "metadata": {},
   "outputs": [],
   "source": [
    "\n",
    "\n",
    "file_paths = ['Google Maps/reviews-estados/review-California/{}.json'.format(i) for i in range(1, 19)]\n",
    "\n",
    "dfs = [pd.read_json(file_path, lines=True) for file_path in file_paths]\n",
    "\n",
    "#Concatenamos todos los datasets:\n",
    "dfc = pd.concat(dfs, axis=0, join='inner')"
   ]
  },
  {
   "cell_type": "markdown",
   "metadata": {},
   "source": [
    "Estimamos conveniente realizar una combinación de los metadatos con los reviews. Para ello tomamos los grupos de\n",
    "metadatos que habíamos separado previamente para facilitar la manipulación: "
   ]
  },
  {
   "cell_type": "code",
   "execution_count": 4,
   "metadata": {},
   "outputs": [],
   "source": [
    "#Cargamos el dataset del metadata1\n",
    "metadata1= pd.read_parquet('Google Maps/metadata-sitios/metadata1.parquet')\n"
   ]
  },
  {
   "cell_type": "markdown",
   "metadata": {},
   "source": [
    "Realizamos una combinación entre los dataframes:"
   ]
  },
  {
   "cell_type": "code",
   "execution_count": 5,
   "metadata": {},
   "outputs": [],
   "source": [
    "\n",
    "Cal1 = pd.merge(dfc, metadata1, on='gmap_id')"
   ]
  },
  {
   "cell_type": "code",
   "execution_count": 6,
   "metadata": {},
   "outputs": [],
   "source": [
    "# Guardamos el dataframe resultante en un archivo .parquet\n",
    "Cal1.to_parquet('Cal1.parquet', index=False)"
   ]
  },
  {
   "cell_type": "code",
   "execution_count": 7,
   "metadata": {},
   "outputs": [],
   "source": [
    "#Liberamos memoria:\n",
    "del Cal1, metadata1"
   ]
  },
  {
   "cell_type": "code",
   "execution_count": 8,
   "metadata": {},
   "outputs": [],
   "source": [
    "\n",
    "#Cargamos la información del metadata2\n",
    "metadata2= pd.read_parquet('Google Maps/metadata-sitios/metadata2.parquet')"
   ]
  },
  {
   "cell_type": "code",
   "execution_count": 9,
   "metadata": {},
   "outputs": [],
   "source": [
    "#Realizamos una combinación entre los dataframes\n",
    "Cal2 = pd.merge(dfc, metadata2, on='gmap_id')"
   ]
  },
  {
   "cell_type": "code",
   "execution_count": 10,
   "metadata": {},
   "outputs": [
    {
     "name": "stdout",
     "output_type": "stream",
     "text": [
      "<class 'pandas.core.frame.DataFrame'>\n",
      "RangeIndex: 256627 entries, 0 to 256626\n",
      "Data columns (total 22 columns):\n",
      " #   Column            Non-Null Count   Dtype  \n",
      "---  ------            --------------   -----  \n",
      " 0   user_id           256627 non-null  float64\n",
      " 1   name_x            256627 non-null  object \n",
      " 2   time              256627 non-null  int64  \n",
      " 3   rating            256627 non-null  int64  \n",
      " 4   text              159832 non-null  object \n",
      " 5   pics              11168 non-null   object \n",
      " 6   resp              31838 non-null   object \n",
      " 7   gmap_id           256627 non-null  object \n",
      " 8   name_y            256627 non-null  object \n",
      " 9   address           255866 non-null  object \n",
      " 10  description       139631 non-null  object \n",
      " 11  latitude          256627 non-null  float64\n",
      " 12  longitude         256627 non-null  float64\n",
      " 13  category          256616 non-null  object \n",
      " 14  avg_rating        256627 non-null  float64\n",
      " 15  num_of_reviews    256627 non-null  int64  \n",
      " 16  price             112864 non-null  object \n",
      " 17  hours             238053 non-null  object \n",
      " 18  MISC              247608 non-null  object \n",
      " 19  state             239256 non-null  object \n",
      " 20  relative_results  252113 non-null  object \n",
      " 21  url               256627 non-null  object \n",
      "dtypes: float64(4), int64(3), object(15)\n",
      "memory usage: 43.1+ MB\n"
     ]
    }
   ],
   "source": [
    "Cal2.info()"
   ]
  },
  {
   "cell_type": "code",
   "execution_count": 12,
   "metadata": {},
   "outputs": [],
   "source": [
    "# Guardamos el dataframe resultante en un archivo .parquet\n",
    "Cal2.to_parquet('Cal2.parquet', index=False)"
   ]
  },
  {
   "cell_type": "code",
   "execution_count": 13,
   "metadata": {},
   "outputs": [],
   "source": [
    "#Liberamos memoria\n",
    "del Cal22, metadata2"
   ]
  },
  {
   "cell_type": "code",
   "execution_count": 3,
   "metadata": {},
   "outputs": [],
   "source": [
    "#leemos los datos del metadata3\n",
    "metadata3= pd.read_parquet('Google Maps/metadata-sitios/metadata3.parquet')"
   ]
  },
  {
   "cell_type": "code",
   "execution_count": 4,
   "metadata": {},
   "outputs": [],
   "source": [
    "#Realizamos una combinación entre los dataframes\n",
    "Cal3 = pd.merge(dfc, metadata3, on='gmap_id')"
   ]
  },
  {
   "cell_type": "code",
   "execution_count": 5,
   "metadata": {},
   "outputs": [
    {
     "name": "stdout",
     "output_type": "stream",
     "text": [
      "<class 'pandas.core.frame.DataFrame'>\n",
      "RangeIndex: 179747 entries, 0 to 179746\n",
      "Data columns (total 22 columns):\n",
      " #   Column            Non-Null Count   Dtype  \n",
      "---  ------            --------------   -----  \n",
      " 0   user_id           179747 non-null  float64\n",
      " 1   name_x            179747 non-null  object \n",
      " 2   time              179747 non-null  int64  \n",
      " 3   rating            179747 non-null  int64  \n",
      " 4   text              111242 non-null  object \n",
      " 5   pics              6765 non-null    object \n",
      " 6   resp              26300 non-null   object \n",
      " 7   gmap_id           179747 non-null  object \n",
      " 8   name_y            179747 non-null  object \n",
      " 9   address           179285 non-null  object \n",
      " 10  description       41502 non-null   object \n",
      " 11  latitude          179747 non-null  float64\n",
      " 12  longitude         179747 non-null  float64\n",
      " 13  category          179690 non-null  object \n",
      " 14  avg_rating        179747 non-null  float64\n",
      " 15  num_of_reviews    179747 non-null  int64  \n",
      " 16  price             47567 non-null   object \n",
      " 17  hours             162300 non-null  object \n",
      " 18  MISC              171913 non-null  object \n",
      " 19  state             164579 non-null  object \n",
      " 20  relative_results  172603 non-null  object \n",
      " 21  url               179747 non-null  object \n",
      "dtypes: float64(4), int64(3), object(15)\n",
      "memory usage: 30.2+ MB\n"
     ]
    }
   ],
   "source": [
    "Cal3.info()"
   ]
  },
  {
   "cell_type": "code",
   "execution_count": 6,
   "metadata": {},
   "outputs": [],
   "source": [
    "# Guardamos el dataframe resultante en un archivo .parquet\n",
    "Cal3.to_parquet('Cal3.parquet', index=False)"
   ]
  },
  {
   "cell_type": "code",
   "execution_count": 3,
   "metadata": {},
   "outputs": [],
   "source": [
    "df_ca = pd.concat([pd.read_parquet(f'NV{i}.parquet') for i in range(1, 4)], axis=0, join='inner')"
   ]
  },
  {
   "cell_type": "markdown",
   "metadata": {},
   "source": [
    "Guardamos el dataset final correspondiente al estado de California: "
   ]
  },
  {
   "cell_type": "code",
   "execution_count": 4,
   "metadata": {},
   "outputs": [],
   "source": [
    "df_ca.to_parquet('df_nv.parquet', index=False)"
   ]
  },
  {
   "cell_type": "markdown",
   "metadata": {},
   "source": [
    "___________________________________________________________________________________________________________"
   ]
  },
  {
   "cell_type": "markdown",
   "metadata": {},
   "source": [
    "### Análisis Exploratorio de Datos - Google reviews:Estado de California"
   ]
  },
  {
   "cell_type": "markdown",
   "metadata": {},
   "source": [
    "En el presente notebook se realizará un análisis exploratorio de los datos de reviews de negocios relacionados al hospedaje realizadas en Google Maps en el estado de California:\n"
   ]
  },
  {
   "cell_type": "markdown",
   "metadata": {},
   "source": [
    "Realizamos la carga del dataset de Nevada concatenado previamente:"
   ]
  },
  {
   "cell_type": "code",
   "execution_count": 3,
   "metadata": {},
   "outputs": [],
   "source": [
    "#Cargamos el dataset \n",
    "df_ca= pd.read_parquet('df_ca.parquet')"
   ]
  },
  {
   "cell_type": "code",
   "execution_count": 4,
   "metadata": {},
   "outputs": [
    {
     "name": "stdout",
     "output_type": "stream",
     "text": [
      "<class 'pandas.core.frame.DataFrame'>\n",
      "RangeIndex: 482596 entries, 0 to 482595\n",
      "Data columns (total 22 columns):\n",
      " #   Column            Non-Null Count   Dtype  \n",
      "---  ------            --------------   -----  \n",
      " 0   user_id           482596 non-null  float64\n",
      " 1   name_x            482596 non-null  object \n",
      " 2   time              482596 non-null  int64  \n",
      " 3   rating            482596 non-null  int64  \n",
      " 4   text              300916 non-null  object \n",
      " 5   pics              19435 non-null   object \n",
      " 6   resp              66383 non-null   object \n",
      " 7   gmap_id           482596 non-null  object \n",
      " 8   name_y            482596 non-null  object \n",
      " 9   address           480769 non-null  object \n",
      " 10  description       186592 non-null  object \n",
      " 11  latitude          482596 non-null  float64\n",
      " 12  longitude         482596 non-null  float64\n",
      " 13  category          482528 non-null  object \n",
      " 14  avg_rating        482596 non-null  float64\n",
      " 15  num_of_reviews    482596 non-null  int64  \n",
      " 16  price             165041 non-null  object \n",
      " 17  hours             441670 non-null  object \n",
      " 18  MISC              461945 non-null  object \n",
      " 19  state             445347 non-null  object \n",
      " 20  relative_results  468393 non-null  object \n",
      " 21  url               482596 non-null  object \n",
      "dtypes: float64(4), int64(3), object(15)\n",
      "memory usage: 81.0+ MB\n"
     ]
    }
   ],
   "source": [
    "#Verificamos la infomación y el tamaño del dataframe\n",
    "df_ca.info()"
   ]
  },
  {
   "cell_type": "markdown",
   "metadata": {},
   "source": [
    "Primero analizamos las columnas 'name_x', 'pics', 'resp', 'MISC' y 'url' y decidimos eliminarlas por los siguientes motivos:\n",
    "'name_x': Nombre de usuario irrelevante para nuestro estudio.\n",
    "'pics'  : Corresponden a fotografías tomadas por los usuarios. La eliminaremos ya que no las consideramos necesarias.\n",
    "'resp'  : Respuesta del establecimiento a la review del usuario. El numero de datos es muy pequeño.\n",
    "'MISC'  : Opciones del servicio. No son relevantes en nuestro estudio.\n",
    "'gmap_id':  Códigos de google que no tienen significado relevante.\n",
    "'relative_results': Códigos de google que no tienen significado relevante.\n",
    "'url'   : Dirección web del establecimiento comercial. No relevante.\n"
   ]
  },
  {
   "cell_type": "code",
   "execution_count": 4,
   "metadata": {},
   "outputs": [],
   "source": [
    "#Eliminamos las columnas que no se usarán en el análisis: \n",
    "\n",
    "df_ca= df_ca.drop(['name_x','pics', 'resp', 'MISC', 'url', 'relative_results', 'gmap_id', 'hours'], axis=1)"
   ]
  },
  {
   "cell_type": "markdown",
   "metadata": {},
   "source": [
    "Verificamos la cantidad de valores nulos:"
   ]
  },
  {
   "cell_type": "code",
   "execution_count": 5,
   "metadata": {},
   "outputs": [
    {
     "name": "stdout",
     "output_type": "stream",
     "text": [
      "user_id                 0\n",
      "time                    0\n",
      "rating                  0\n",
      "text               507434\n",
      "name_y                 26\n",
      "address              7574\n",
      "description       1066984\n",
      "latitude                0\n",
      "longitude               0\n",
      "category             2214\n",
      "avg_rating              0\n",
      "num_of_reviews          0\n",
      "price             1074162\n",
      "state              137642\n",
      "dtype: int64\n"
     ]
    }
   ],
   "source": [
    "null_counts = df_ca.isnull().sum()\n",
    "print(null_counts)"
   ]
  },
  {
   "cell_type": "markdown",
   "metadata": {},
   "source": [
    "De acuerdo a lo anterior, existe una gran cantidad de valores faltantes en la columna \"text\", que contiene los comentarios de las reviews realizadas por el usuario. Se decide mantener las mismas, ya que tal vez podamos implementar algún método para completar los mismos a través del rating ingresado por el usuario De igual manera para las columnas \"description\", \"address\", \"price\" y \"state\". \n",
    "\n"
   ]
  },
  {
   "cell_type": "markdown",
   "metadata": {},
   "source": [
    "Desanidamos la columna 'category':"
   ]
  },
  {
   "cell_type": "code",
   "execution_count": 6,
   "metadata": {},
   "outputs": [],
   "source": [
    "df_ca = df_ca.explode('category')\n",
    "df_ca = df_ca.dropna(subset=['category'])"
   ]
  },
  {
   "cell_type": "code",
   "execution_count": 7,
   "metadata": {},
   "outputs": [
    {
     "data": {
      "text/plain": [
       "1527812"
      ]
     },
     "execution_count": 7,
     "metadata": {},
     "output_type": "execute_result"
    }
   ],
   "source": [
    "# Se controla que no existan filas duplicadas:\n",
    "df_ca.duplicated().sum()"
   ]
  },
  {
   "cell_type": "code",
   "execution_count": 8,
   "metadata": {},
   "outputs": [
    {
     "data": {
      "text/plain": [
       "(1330208, 14)"
      ]
     },
     "execution_count": 8,
     "metadata": {},
     "output_type": "execute_result"
    }
   ],
   "source": [
    "# Se eliminan valores duplicados:\n",
    "df_ca= df_ca.drop_duplicates()\n",
    "df_ca.shape"
   ]
  },
  {
   "cell_type": "markdown",
   "metadata": {},
   "source": [
    "Llenamos los datos faltantes de la columna \"price\" por 'no price'"
   ]
  },
  {
   "cell_type": "code",
   "execution_count": 9,
   "metadata": {},
   "outputs": [],
   "source": [
    "df_ca['price'].fillna('No Price', inplace=True)\n"
   ]
  },
  {
   "cell_type": "markdown",
   "metadata": {},
   "source": [
    "Cambiamos el tipo de dato de la columna time a datetime:"
   ]
  },
  {
   "cell_type": "code",
   "execution_count": 10,
   "metadata": {},
   "outputs": [],
   "source": [
    "df_ca['time'] = pd.to_datetime(df_ca['time'], unit='ms')"
   ]
  },
  {
   "cell_type": "code",
   "execution_count": 11,
   "metadata": {},
   "outputs": [
    {
     "data": {
      "text/html": [
       "<div>\n",
       "<style scoped>\n",
       "    .dataframe tbody tr th:only-of-type {\n",
       "        vertical-align: middle;\n",
       "    }\n",
       "\n",
       "    .dataframe tbody tr th {\n",
       "        vertical-align: top;\n",
       "    }\n",
       "\n",
       "    .dataframe thead th {\n",
       "        text-align: right;\n",
       "    }\n",
       "</style>\n",
       "<table border=\"1\" class=\"dataframe\">\n",
       "  <thead>\n",
       "    <tr style=\"text-align: right;\">\n",
       "      <th></th>\n",
       "      <th>user_id</th>\n",
       "      <th>time</th>\n",
       "      <th>rating</th>\n",
       "      <th>text</th>\n",
       "      <th>name_y</th>\n",
       "      <th>address</th>\n",
       "      <th>description</th>\n",
       "      <th>latitude</th>\n",
       "      <th>longitude</th>\n",
       "      <th>category</th>\n",
       "      <th>avg_rating</th>\n",
       "      <th>num_of_reviews</th>\n",
       "      <th>price</th>\n",
       "      <th>state</th>\n",
       "    </tr>\n",
       "  </thead>\n",
       "  <tbody>\n",
       "    <tr>\n",
       "      <th>0</th>\n",
       "      <td>1.089912e+20</td>\n",
       "      <td>2021-01-06 05:12:07.056</td>\n",
       "      <td>5</td>\n",
       "      <td>Love there korean rice cake.</td>\n",
       "      <td>San Soo Dang</td>\n",
       "      <td>San Soo Dang, 761 S Vermont Ave, Los Angeles, ...</td>\n",
       "      <td>None</td>\n",
       "      <td>34.058092</td>\n",
       "      <td>-118.29213</td>\n",
       "      <td>Korean restaurant</td>\n",
       "      <td>4.4</td>\n",
       "      <td>18</td>\n",
       "      <td>No Price</td>\n",
       "      <td>Open ⋅ Closes 6PM</td>\n",
       "    </tr>\n",
       "    <tr>\n",
       "      <th>2</th>\n",
       "      <td>1.112903e+20</td>\n",
       "      <td>2021-02-09 05:47:28.663</td>\n",
       "      <td>5</td>\n",
       "      <td>Good very good</td>\n",
       "      <td>San Soo Dang</td>\n",
       "      <td>San Soo Dang, 761 S Vermont Ave, Los Angeles, ...</td>\n",
       "      <td>None</td>\n",
       "      <td>34.058092</td>\n",
       "      <td>-118.29213</td>\n",
       "      <td>Korean restaurant</td>\n",
       "      <td>4.4</td>\n",
       "      <td>18</td>\n",
       "      <td>No Price</td>\n",
       "      <td>Open ⋅ Closes 6PM</td>\n",
       "    </tr>\n",
       "    <tr>\n",
       "      <th>4</th>\n",
       "      <td>1.126404e+20</td>\n",
       "      <td>2020-03-08 05:04:42.296</td>\n",
       "      <td>4</td>\n",
       "      <td>They make Korean traditional food very properly.</td>\n",
       "      <td>San Soo Dang</td>\n",
       "      <td>San Soo Dang, 761 S Vermont Ave, Los Angeles, ...</td>\n",
       "      <td>None</td>\n",
       "      <td>34.058092</td>\n",
       "      <td>-118.29213</td>\n",
       "      <td>Korean restaurant</td>\n",
       "      <td>4.4</td>\n",
       "      <td>18</td>\n",
       "      <td>No Price</td>\n",
       "      <td>Open ⋅ Closes 6PM</td>\n",
       "    </tr>\n",
       "    <tr>\n",
       "      <th>6</th>\n",
       "      <td>1.174403e+20</td>\n",
       "      <td>2019-03-07 05:56:56.355</td>\n",
       "      <td>5</td>\n",
       "      <td>Short ribs are very delicious.</td>\n",
       "      <td>San Soo Dang</td>\n",
       "      <td>San Soo Dang, 761 S Vermont Ave, Los Angeles, ...</td>\n",
       "      <td>None</td>\n",
       "      <td>34.058092</td>\n",
       "      <td>-118.29213</td>\n",
       "      <td>Korean restaurant</td>\n",
       "      <td>4.4</td>\n",
       "      <td>18</td>\n",
       "      <td>No Price</td>\n",
       "      <td>Open ⋅ Closes 6PM</td>\n",
       "    </tr>\n",
       "    <tr>\n",
       "      <th>8</th>\n",
       "      <td>1.005808e+20</td>\n",
       "      <td>2017-05-16 05:01:41.933</td>\n",
       "      <td>5</td>\n",
       "      <td>Great food and prices the portions are large</td>\n",
       "      <td>San Soo Dang</td>\n",
       "      <td>San Soo Dang, 761 S Vermont Ave, Los Angeles, ...</td>\n",
       "      <td>None</td>\n",
       "      <td>34.058092</td>\n",
       "      <td>-118.29213</td>\n",
       "      <td>Korean restaurant</td>\n",
       "      <td>4.4</td>\n",
       "      <td>18</td>\n",
       "      <td>No Price</td>\n",
       "      <td>Open ⋅ Closes 6PM</td>\n",
       "    </tr>\n",
       "  </tbody>\n",
       "</table>\n",
       "</div>"
      ],
      "text/plain": [
       "        user_id                    time  rating   \n",
       "0  1.089912e+20 2021-01-06 05:12:07.056       5  \\\n",
       "2  1.112903e+20 2021-02-09 05:47:28.663       5   \n",
       "4  1.126404e+20 2020-03-08 05:04:42.296       4   \n",
       "6  1.174403e+20 2019-03-07 05:56:56.355       5   \n",
       "8  1.005808e+20 2017-05-16 05:01:41.933       5   \n",
       "\n",
       "                                               text        name_y   \n",
       "0                      Love there korean rice cake.  San Soo Dang  \\\n",
       "2                                    Good very good  San Soo Dang   \n",
       "4  They make Korean traditional food very properly.  San Soo Dang   \n",
       "6                    Short ribs are very delicious.  San Soo Dang   \n",
       "8      Great food and prices the portions are large  San Soo Dang   \n",
       "\n",
       "                                             address description   latitude   \n",
       "0  San Soo Dang, 761 S Vermont Ave, Los Angeles, ...        None  34.058092  \\\n",
       "2  San Soo Dang, 761 S Vermont Ave, Los Angeles, ...        None  34.058092   \n",
       "4  San Soo Dang, 761 S Vermont Ave, Los Angeles, ...        None  34.058092   \n",
       "6  San Soo Dang, 761 S Vermont Ave, Los Angeles, ...        None  34.058092   \n",
       "8  San Soo Dang, 761 S Vermont Ave, Los Angeles, ...        None  34.058092   \n",
       "\n",
       "   longitude           category  avg_rating  num_of_reviews     price   \n",
       "0 -118.29213  Korean restaurant         4.4              18  No Price  \\\n",
       "2 -118.29213  Korean restaurant         4.4              18  No Price   \n",
       "4 -118.29213  Korean restaurant         4.4              18  No Price   \n",
       "6 -118.29213  Korean restaurant         4.4              18  No Price   \n",
       "8 -118.29213  Korean restaurant         4.4              18  No Price   \n",
       "\n",
       "               state  \n",
       "0  Open ⋅ Closes 6PM  \n",
       "2  Open ⋅ Closes 6PM  \n",
       "4  Open ⋅ Closes 6PM  \n",
       "6  Open ⋅ Closes 6PM  \n",
       "8  Open ⋅ Closes 6PM  "
      ]
     },
     "execution_count": 11,
     "metadata": {},
     "output_type": "execute_result"
    }
   ],
   "source": [
    "df_ca.head()"
   ]
  },
  {
   "cell_type": "code",
   "execution_count": 12,
   "metadata": {},
   "outputs": [
    {
     "name": "stdout",
     "output_type": "stream",
     "text": [
      "<class 'pandas.core.frame.DataFrame'>\n",
      "Index: 1330208 entries, 0 to 614558\n",
      "Data columns (total 14 columns):\n",
      " #   Column          Non-Null Count    Dtype         \n",
      "---  ------          --------------    -----         \n",
      " 0   user_id         1330208 non-null  float64       \n",
      " 1   time            1330208 non-null  datetime64[ns]\n",
      " 2   rating          1330208 non-null  int64         \n",
      " 3   text            801500 non-null   object        \n",
      " 4   name_y          1330195 non-null  object        \n",
      " 5   address         1319592 non-null  object        \n",
      " 6   description     253243 non-null   object        \n",
      " 7   latitude        1330208 non-null  float64       \n",
      " 8   longitude       1330208 non-null  float64       \n",
      " 9   category        1330208 non-null  object        \n",
      " 10  avg_rating      1330208 non-null  float64       \n",
      " 11  num_of_reviews  1330208 non-null  int64         \n",
      " 12  price           1330208 non-null  object        \n",
      " 13  state           1231676 non-null  object        \n",
      "dtypes: datetime64[ns](1), float64(4), int64(2), object(7)\n",
      "memory usage: 152.2+ MB\n"
     ]
    }
   ],
   "source": [
    "df_ca.info()"
   ]
  },
  {
   "cell_type": "code",
   "execution_count": 13,
   "metadata": {},
   "outputs": [],
   "source": [
    "# Renombramos la columna \"name_y\" por \"business name\"\n",
    "df_ca.rename(columns={'name_y': 'business name'}, inplace=True)"
   ]
  },
  {
   "cell_type": "markdown",
   "metadata": {},
   "source": [
    "Realizamos un filtro de negocios relacionados con la hotelería, contenidos en la columna 'category'"
   ]
  },
  {
   "cell_type": "code",
   "execution_count": 17,
   "metadata": {},
   "outputs": [],
   "source": [
    "#Creamos una lista con las palabras clave\n",
    "keywords = ['Hotel', 'Hostel', 'Motel', 'Resort', 'Inn', 'Lodging', 'Lodge', 'Accommodation', \n",
    "            'Bed and Breakfast (B&B)', 'Guesthouse', 'Boutique Hotel', 'Vacation Rental', \n",
    "            'Homestay', 'Cabin', 'Suites', 'Spa Resort', 'Boutique Inn', 'Extended Stay', \n",
    "            'Boutique Accommodation', 'Retreat']\n",
    "\n",
    "\n",
    "# Se realiza la busqueda de coincidencias exactas de las palabras clave\n",
    "import re\n",
    "pattern = r'\\b(?:' + '|'.join(re.escape(keyword) for keyword in keywords) + r')\\b'\n",
    "\n",
    "\n",
    "# Creamos un dataframe de hoteles unicamente\n",
    "ca_hotels = df_ca[df_ca['category'].str.contains(pattern, case=False, na=False)]\n",
    "\n"
   ]
  },
  {
   "cell_type": "code",
   "execution_count": 18,
   "metadata": {},
   "outputs": [
    {
     "name": "stdout",
     "output_type": "stream",
     "text": [
      "<class 'pandas.core.frame.DataFrame'>\n",
      "Index: 2658 entries, 31716 to 612711\n",
      "Data columns (total 14 columns):\n",
      " #   Column          Non-Null Count  Dtype         \n",
      "---  ------          --------------  -----         \n",
      " 0   user_id         2658 non-null   float64       \n",
      " 1   time            2658 non-null   datetime64[ns]\n",
      " 2   rating          2658 non-null   int64         \n",
      " 3   text            1521 non-null   object        \n",
      " 4   business name   2658 non-null   object        \n",
      " 5   address         2643 non-null   object        \n",
      " 6   description     560 non-null    object        \n",
      " 7   latitude        2658 non-null   float64       \n",
      " 8   longitude       2658 non-null   float64       \n",
      " 9   category        2658 non-null   object        \n",
      " 10  avg_rating      2658 non-null   float64       \n",
      " 11  num_of_reviews  2658 non-null   int64         \n",
      " 12  price           2658 non-null   object        \n",
      " 13  state           111 non-null    object        \n",
      "dtypes: datetime64[ns](1), float64(4), int64(2), object(7)\n",
      "memory usage: 311.5+ KB\n"
     ]
    }
   ],
   "source": [
    "ca_hotels.info()"
   ]
  },
  {
   "cell_type": "code",
   "execution_count": 19,
   "metadata": {},
   "outputs": [
    {
     "data": {
      "text/html": [
       "<div>\n",
       "<style scoped>\n",
       "    .dataframe tbody tr th:only-of-type {\n",
       "        vertical-align: middle;\n",
       "    }\n",
       "\n",
       "    .dataframe tbody tr th {\n",
       "        vertical-align: top;\n",
       "    }\n",
       "\n",
       "    .dataframe thead th {\n",
       "        text-align: right;\n",
       "    }\n",
       "</style>\n",
       "<table border=\"1\" class=\"dataframe\">\n",
       "  <thead>\n",
       "    <tr style=\"text-align: right;\">\n",
       "      <th></th>\n",
       "      <th>user_id</th>\n",
       "      <th>time</th>\n",
       "      <th>rating</th>\n",
       "      <th>latitude</th>\n",
       "      <th>longitude</th>\n",
       "      <th>avg_rating</th>\n",
       "      <th>num_of_reviews</th>\n",
       "    </tr>\n",
       "  </thead>\n",
       "  <tbody>\n",
       "    <tr>\n",
       "      <th>count</th>\n",
       "      <td>2.658000e+03</td>\n",
       "      <td>2658</td>\n",
       "      <td>2658.000000</td>\n",
       "      <td>2658.000000</td>\n",
       "      <td>2658.000000</td>\n",
       "      <td>2658.000000</td>\n",
       "      <td>2658.000000</td>\n",
       "    </tr>\n",
       "    <tr>\n",
       "      <th>mean</th>\n",
       "      <td>1.097295e+20</td>\n",
       "      <td>2018-09-15 08:03:35.470112512</td>\n",
       "      <td>3.920993</td>\n",
       "      <td>35.706194</td>\n",
       "      <td>-119.284191</td>\n",
       "      <td>3.885779</td>\n",
       "      <td>46.676072</td>\n",
       "    </tr>\n",
       "    <tr>\n",
       "      <th>min</th>\n",
       "      <td>1.000041e+20</td>\n",
       "      <td>2009-12-30 05:24:16.369000</td>\n",
       "      <td>1.000000</td>\n",
       "      <td>32.679144</td>\n",
       "      <td>-124.067515</td>\n",
       "      <td>2.200000</td>\n",
       "      <td>13.000000</td>\n",
       "    </tr>\n",
       "    <tr>\n",
       "      <th>25%</th>\n",
       "      <td>1.057088e+20</td>\n",
       "      <td>2017-08-23 21:12:33.820999936</td>\n",
       "      <td>3.000000</td>\n",
       "      <td>33.946246</td>\n",
       "      <td>-120.885765</td>\n",
       "      <td>3.300000</td>\n",
       "      <td>27.000000</td>\n",
       "    </tr>\n",
       "    <tr>\n",
       "      <th>50%</th>\n",
       "      <td>1.095537e+20</td>\n",
       "      <td>2018-10-24 00:17:07.139000064</td>\n",
       "      <td>5.000000</td>\n",
       "      <td>34.265423</td>\n",
       "      <td>-118.420527</td>\n",
       "      <td>3.900000</td>\n",
       "      <td>38.000000</td>\n",
       "    </tr>\n",
       "    <tr>\n",
       "      <th>75%</th>\n",
       "      <td>1.143784e+20</td>\n",
       "      <td>2019-09-15 23:26:49.742000128</td>\n",
       "      <td>5.000000</td>\n",
       "      <td>37.791257</td>\n",
       "      <td>-117.864265</td>\n",
       "      <td>4.500000</td>\n",
       "      <td>55.000000</td>\n",
       "    </tr>\n",
       "    <tr>\n",
       "      <th>max</th>\n",
       "      <td>1.184397e+20</td>\n",
       "      <td>2021-08-15 23:47:37.763000</td>\n",
       "      <td>5.000000</td>\n",
       "      <td>41.728145</td>\n",
       "      <td>-114.731168</td>\n",
       "      <td>5.000000</td>\n",
       "      <td>138.000000</td>\n",
       "    </tr>\n",
       "    <tr>\n",
       "      <th>std</th>\n",
       "      <td>5.204594e+18</td>\n",
       "      <td>NaN</td>\n",
       "      <td>1.368417</td>\n",
       "      <td>2.386993</td>\n",
       "      <td>1.981616</td>\n",
       "      <td>0.706500</td>\n",
       "      <td>29.103142</td>\n",
       "    </tr>\n",
       "  </tbody>\n",
       "</table>\n",
       "</div>"
      ],
      "text/plain": [
       "            user_id                           time       rating     latitude   \n",
       "count  2.658000e+03                           2658  2658.000000  2658.000000  \\\n",
       "mean   1.097295e+20  2018-09-15 08:03:35.470112512     3.920993    35.706194   \n",
       "min    1.000041e+20     2009-12-30 05:24:16.369000     1.000000    32.679144   \n",
       "25%    1.057088e+20  2017-08-23 21:12:33.820999936     3.000000    33.946246   \n",
       "50%    1.095537e+20  2018-10-24 00:17:07.139000064     5.000000    34.265423   \n",
       "75%    1.143784e+20  2019-09-15 23:26:49.742000128     5.000000    37.791257   \n",
       "max    1.184397e+20     2021-08-15 23:47:37.763000     5.000000    41.728145   \n",
       "std    5.204594e+18                            NaN     1.368417     2.386993   \n",
       "\n",
       "         longitude   avg_rating  num_of_reviews  \n",
       "count  2658.000000  2658.000000     2658.000000  \n",
       "mean   -119.284191     3.885779       46.676072  \n",
       "min    -124.067515     2.200000       13.000000  \n",
       "25%    -120.885765     3.300000       27.000000  \n",
       "50%    -118.420527     3.900000       38.000000  \n",
       "75%    -117.864265     4.500000       55.000000  \n",
       "max    -114.731168     5.000000      138.000000  \n",
       "std       1.981616     0.706500       29.103142  "
      ]
     },
     "execution_count": 19,
     "metadata": {},
     "output_type": "execute_result"
    }
   ],
   "source": [
    "ca_hotels.describe()"
   ]
  },
  {
   "cell_type": "code",
   "execution_count": 20,
   "metadata": {},
   "outputs": [
    {
     "name": "stdout",
     "output_type": "stream",
     "text": [
      "<class 'pandas.core.frame.DataFrame'>\n",
      "Index: 2658 entries, 31716 to 612711\n",
      "Data columns (total 14 columns):\n",
      " #   Column          Non-Null Count  Dtype         \n",
      "---  ------          --------------  -----         \n",
      " 0   user_id         2658 non-null   float64       \n",
      " 1   time            2658 non-null   datetime64[ns]\n",
      " 2   rating          2658 non-null   int64         \n",
      " 3   text            1521 non-null   object        \n",
      " 4   business name   2658 non-null   object        \n",
      " 5   address         2643 non-null   object        \n",
      " 6   description     560 non-null    object        \n",
      " 7   latitude        2658 non-null   float64       \n",
      " 8   longitude       2658 non-null   float64       \n",
      " 9   category        2658 non-null   object        \n",
      " 10  avg_rating      2658 non-null   float64       \n",
      " 11  num_of_reviews  2658 non-null   int64         \n",
      " 12  price           2658 non-null   object        \n",
      " 13  state           111 non-null    object        \n",
      "dtypes: datetime64[ns](1), float64(4), int64(2), object(7)\n",
      "memory usage: 311.5+ KB\n"
     ]
    }
   ],
   "source": [
    "ca_hotels.info()"
   ]
  },
  {
   "cell_type": "code",
   "execution_count": 21,
   "metadata": {},
   "outputs": [
    {
     "data": {
      "text/html": [
       "<div>\n",
       "<style scoped>\n",
       "    .dataframe tbody tr th:only-of-type {\n",
       "        vertical-align: middle;\n",
       "    }\n",
       "\n",
       "    .dataframe tbody tr th {\n",
       "        vertical-align: top;\n",
       "    }\n",
       "\n",
       "    .dataframe thead th {\n",
       "        text-align: right;\n",
       "    }\n",
       "</style>\n",
       "<table border=\"1\" class=\"dataframe\">\n",
       "  <thead>\n",
       "    <tr style=\"text-align: right;\">\n",
       "      <th></th>\n",
       "      <th>user_id</th>\n",
       "      <th>time</th>\n",
       "      <th>rating</th>\n",
       "      <th>text</th>\n",
       "      <th>business name</th>\n",
       "      <th>address</th>\n",
       "      <th>description</th>\n",
       "      <th>latitude</th>\n",
       "      <th>longitude</th>\n",
       "      <th>category</th>\n",
       "      <th>avg_rating</th>\n",
       "      <th>num_of_reviews</th>\n",
       "      <th>price</th>\n",
       "      <th>state</th>\n",
       "    </tr>\n",
       "  </thead>\n",
       "  <tbody>\n",
       "    <tr>\n",
       "      <th>31716</th>\n",
       "      <td>1.089268e+20</td>\n",
       "      <td>2021-06-13 02:27:17.434</td>\n",
       "      <td>4</td>\n",
       "      <td>Great pet friendly place on the American River...</td>\n",
       "      <td>Coloma Cottages</td>\n",
       "      <td>Coloma Cottages, 5941 New River Rd, Coloma, CA...</td>\n",
       "      <td>None</td>\n",
       "      <td>38.799352</td>\n",
       "      <td>-120.885765</td>\n",
       "      <td>Resort hotel</td>\n",
       "      <td>5.0</td>\n",
       "      <td>48</td>\n",
       "      <td>No Price</td>\n",
       "      <td>None</td>\n",
       "    </tr>\n",
       "    <tr>\n",
       "      <th>31716</th>\n",
       "      <td>1.089268e+20</td>\n",
       "      <td>2021-06-13 02:27:17.434</td>\n",
       "      <td>4</td>\n",
       "      <td>Great pet friendly place on the American River...</td>\n",
       "      <td>Coloma Cottages</td>\n",
       "      <td>Coloma Cottages, 5941 New River Rd, Coloma, CA...</td>\n",
       "      <td>None</td>\n",
       "      <td>38.799352</td>\n",
       "      <td>-120.885765</td>\n",
       "      <td>Hotel</td>\n",
       "      <td>5.0</td>\n",
       "      <td>48</td>\n",
       "      <td>No Price</td>\n",
       "      <td>None</td>\n",
       "    </tr>\n",
       "    <tr>\n",
       "      <th>31716</th>\n",
       "      <td>1.089268e+20</td>\n",
       "      <td>2021-06-13 02:27:17.434</td>\n",
       "      <td>4</td>\n",
       "      <td>Great pet friendly place on the American River...</td>\n",
       "      <td>Coloma Cottages</td>\n",
       "      <td>Coloma Cottages, 5941 New River Rd, Coloma, CA...</td>\n",
       "      <td>None</td>\n",
       "      <td>38.799352</td>\n",
       "      <td>-120.885765</td>\n",
       "      <td>Indoor lodging</td>\n",
       "      <td>5.0</td>\n",
       "      <td>48</td>\n",
       "      <td>No Price</td>\n",
       "      <td>None</td>\n",
       "    </tr>\n",
       "    <tr>\n",
       "      <th>31716</th>\n",
       "      <td>1.089268e+20</td>\n",
       "      <td>2021-06-13 02:27:17.434</td>\n",
       "      <td>4</td>\n",
       "      <td>Great pet friendly place on the American River...</td>\n",
       "      <td>Coloma Cottages</td>\n",
       "      <td>Coloma Cottages, 5941 New River Rd, Coloma, CA...</td>\n",
       "      <td>None</td>\n",
       "      <td>38.799352</td>\n",
       "      <td>-120.885765</td>\n",
       "      <td>Inn</td>\n",
       "      <td>5.0</td>\n",
       "      <td>48</td>\n",
       "      <td>No Price</td>\n",
       "      <td>None</td>\n",
       "    </tr>\n",
       "    <tr>\n",
       "      <th>31716</th>\n",
       "      <td>1.089268e+20</td>\n",
       "      <td>2021-06-13 02:27:17.434</td>\n",
       "      <td>4</td>\n",
       "      <td>Great pet friendly place on the American River...</td>\n",
       "      <td>Coloma Cottages</td>\n",
       "      <td>Coloma Cottages, 5941 New River Rd, Coloma, CA...</td>\n",
       "      <td>None</td>\n",
       "      <td>38.799352</td>\n",
       "      <td>-120.885765</td>\n",
       "      <td>Lodge</td>\n",
       "      <td>5.0</td>\n",
       "      <td>48</td>\n",
       "      <td>No Price</td>\n",
       "      <td>None</td>\n",
       "    </tr>\n",
       "  </tbody>\n",
       "</table>\n",
       "</div>"
      ],
      "text/plain": [
       "            user_id                    time  rating   \n",
       "31716  1.089268e+20 2021-06-13 02:27:17.434       4  \\\n",
       "31716  1.089268e+20 2021-06-13 02:27:17.434       4   \n",
       "31716  1.089268e+20 2021-06-13 02:27:17.434       4   \n",
       "31716  1.089268e+20 2021-06-13 02:27:17.434       4   \n",
       "31716  1.089268e+20 2021-06-13 02:27:17.434       4   \n",
       "\n",
       "                                                    text    business name   \n",
       "31716  Great pet friendly place on the American River...  Coloma Cottages  \\\n",
       "31716  Great pet friendly place on the American River...  Coloma Cottages   \n",
       "31716  Great pet friendly place on the American River...  Coloma Cottages   \n",
       "31716  Great pet friendly place on the American River...  Coloma Cottages   \n",
       "31716  Great pet friendly place on the American River...  Coloma Cottages   \n",
       "\n",
       "                                                 address description   \n",
       "31716  Coloma Cottages, 5941 New River Rd, Coloma, CA...        None  \\\n",
       "31716  Coloma Cottages, 5941 New River Rd, Coloma, CA...        None   \n",
       "31716  Coloma Cottages, 5941 New River Rd, Coloma, CA...        None   \n",
       "31716  Coloma Cottages, 5941 New River Rd, Coloma, CA...        None   \n",
       "31716  Coloma Cottages, 5941 New River Rd, Coloma, CA...        None   \n",
       "\n",
       "        latitude   longitude        category  avg_rating  num_of_reviews   \n",
       "31716  38.799352 -120.885765    Resort hotel         5.0              48  \\\n",
       "31716  38.799352 -120.885765           Hotel         5.0              48   \n",
       "31716  38.799352 -120.885765  Indoor lodging         5.0              48   \n",
       "31716  38.799352 -120.885765             Inn         5.0              48   \n",
       "31716  38.799352 -120.885765           Lodge         5.0              48   \n",
       "\n",
       "          price state  \n",
       "31716  No Price  None  \n",
       "31716  No Price  None  \n",
       "31716  No Price  None  \n",
       "31716  No Price  None  \n",
       "31716  No Price  None  "
      ]
     },
     "execution_count": 21,
     "metadata": {},
     "output_type": "execute_result"
    }
   ],
   "source": [
    "ca_hotels.head()"
   ]
  },
  {
   "cell_type": "code",
   "execution_count": 22,
   "metadata": {},
   "outputs": [],
   "source": [
    "ca_hotels.to_parquet('ca_hotels.parquet', index=False)"
   ]
  }
 ],
 "metadata": {
  "kernelspec": {
   "display_name": "Python 3",
   "language": "python",
   "name": "python3"
  },
  "language_info": {
   "codemirror_mode": {
    "name": "ipython",
    "version": 3
   },
   "file_extension": ".py",
   "mimetype": "text/x-python",
   "name": "python",
   "nbconvert_exporter": "python",
   "pygments_lexer": "ipython3",
   "version": "3.11.0"
  }
 },
 "nbformat": 4,
 "nbformat_minor": 2
}
